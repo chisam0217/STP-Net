{
 "cells": [
  {
   "cell_type": "code",
   "execution_count": 1,
   "id": "42af79e8",
   "metadata": {},
   "outputs": [],
   "source": [
    "import numpy as np\n",
    "import os.path as op"
   ]
  },
  {
   "cell_type": "code",
   "execution_count": 2,
   "id": "5d49b2a9",
   "metadata": {},
   "outputs": [
    {
     "data": {
      "text/plain": [
       "(100, 200, 12, 3, 64, 64)"
      ]
     },
     "execution_count": 2,
     "metadata": {},
     "output_type": "execute_result"
    }
   ],
   "source": [
    "test_map = np.load(\"/home/xiao/Projects/ST_LSTM_MP/Data/2D_map_64/Map_array/test_seen_video.npy\")\n",
    "test_map.shape"
   ]
  },
  {
   "cell_type": "code",
   "execution_count": 3,
   "id": "fffefa3c",
   "metadata": {},
   "outputs": [
    {
     "data": {
      "text/plain": [
       "(40000, 13, 2)"
      ]
     },
     "execution_count": 3,
     "metadata": {},
     "output_type": "execute_result"
    }
   ],
   "source": [
    "test_path = np.load(\"/home/xiao/Projects/ST_LSTM_MP/Data/2D_map_64/Map_array/test_seen_path.npy\")\n",
    "test_path.shape"
   ]
  },
  {
   "cell_type": "code",
   "execution_count": 12,
   "id": "d83019e5",
   "metadata": {},
   "outputs": [
    {
     "name": "stdout",
     "output_type": "stream",
     "text": [
      "[[ 3  0]\n",
      " [16 22]\n",
      " [24 42]\n",
      " [38 56]\n",
      " [44 61]\n",
      " [44 61]\n",
      " [44 61]\n",
      " [44 61]\n",
      " [44 61]\n",
      " [44 61]\n",
      " [44 61]\n",
      " [44 61]\n",
      " [44 61]]\n"
     ]
    }
   ],
   "source": [
    "map_id = 36\n",
    "task_id = 19\n",
    "print (test_path[map_id * 400 + task_id])"
   ]
  },
  {
   "cell_type": "code",
   "execution_count": 13,
   "id": "512b508e",
   "metadata": {},
   "outputs": [
    {
     "name": "stdout",
     "output_type": "stream",
     "text": [
      "(3, 64, 64)\n"
     ]
    },
    {
     "name": "stderr",
     "output_type": "stream",
     "text": [
      "/tmp/ipykernel_3178831/754160147.py:20: UserWarning: color is redundantly defined by the 'color' keyword argument and the fmt string \"ro-\" (-> color='r'). The keyword argument will take precedence.\n",
      "  plt.plot(x,y, 'ro-', color='orange')\n",
      "/tmp/ipykernel_3178831/754160147.py:22: UserWarning: color is redundantly defined by the 'color' keyword argument and the fmt string \"ro\" (-> color='r'). The keyword argument will take precedence.\n",
      "  plt.plot(x[0], y[0], 'ro', color='green')\n",
      "/tmp/ipykernel_3178831/754160147.py:23: UserWarning: color is redundantly defined by the 'color' keyword argument and the fmt string \"ro\" (-> color='r'). The keyword argument will take precedence.\n",
      "  plt.plot(x[-1], y[-1], 'ro', color='blue')\n"
     ]
    },
    {
     "data": {
      "image/png": "[encoded data removed]",
      "text/plain": [
       "<Figure size 432x288 with 1 Axes>"
      ]
     },
     "metadata": {
      "needs_background": "light"
     },
     "output_type": "display_data"
    }
   ],
   "source": [
    "import matplotlib.pyplot as plt\n",
    "first_frame = np.copy(test_map[map_id, task_id,0,:,:,:])\n",
    "print (first_frame.shape)\n",
    "# plt.axis('off')\n",
    "first_frame[1,:,:] = 0\n",
    "first_frame[2,:,:] = 0\n",
    "\n",
    "\n",
    "# first_frame = np.transpose(first_frame,(1,2,0))\n",
    "\n",
    "plt.imshow(first_frame.T)\n",
    "\n",
    "plt.gca().invert_yaxis()\n",
    "\n",
    "path = test_path[map_id * 400 + task_id]\n",
    "# path = [(0, 60), (8, 31), (11, 24), (26, 23), (32, 29), (37, 30), (47, 27), (50, 21), (55, 1), (57, 2)]\n",
    "\n",
    "x = [x for x,y in path]\n",
    "y = [y for x,y in path]\n",
    "plt.plot(x,y, 'ro-', color='orange')\n",
    "\n",
    "plt.plot(x[0], y[0], 'ro', color='green')\n",
    "plt.plot(x[-1], y[-1], 'ro', color='blue')\n",
    "\n",
    "plt.axis('off')\n",
    "plt.show()"
   ]
  },
  {
   "cell_type": "code",
   "execution_count": 52,
   "id": "84b53aee",
   "metadata": {},
   "outputs": [
    {
     "name": "stdout",
     "output_type": "stream",
     "text": [
      "(64, 64, 3)\n"
     ]
    },
    {
     "data": {
      "image/png": "[encoded data removed]",
      "text/plain": [
       "<Figure size 432x288 with 1 Axes>"
      ]
     },
     "metadata": {
      "needs_background": "light"
     },
     "output_type": "display_data"
    }
   ],
   "source": [
    "arr = test_map[map_id,task_id,0]\n",
    "# arr = np.transpose(arr,(1,2,0))\n",
    "# arr = arr[2]\n",
    "arr = arr.T\n",
    "print (arr.shape)\n",
    "# im = Image.fromarray(arr)\n",
    "plt.axis('off')\n",
    "imgplot = plt.imshow(arr)\n",
    "plt.gca().invert_yaxis()"
   ]
  },
  {
   "cell_type": "code",
   "execution_count": 53,
   "id": "21cf3cba",
   "metadata": {},
   "outputs": [
    {
     "name": "stdout",
     "output_type": "stream",
     "text": [
      "(64, 64, 3)\n"
     ]
    },
    {
     "data": {
      "image/png": "[encoded data removed]",
      "text/plain": [
       "<Figure size 432x288 with 1 Axes>"
      ]
     },
     "metadata": {
      "needs_background": "light"
     },
     "output_type": "display_data"
    }
   ],
   "source": [
    "arr = test_map[map_id,task_id,1]\n",
    "# arr = np.transpose(arr,(1,2,0))\n",
    "# arr = arr[2]\n",
    "arr = arr.T\n",
    "print (arr.shape)\n",
    "# im = Image.fromarray(arr)\n",
    "plt.axis('off')\n",
    "imgplot = plt.imshow(arr)\n",
    "plt.gca().invert_yaxis()"
   ]
  },
  {
   "cell_type": "code",
   "execution_count": 54,
   "id": "e90f249e",
   "metadata": {},
   "outputs": [
    {
     "name": "stdout",
     "output_type": "stream",
     "text": [
      "(64, 64, 3)\n"
     ]
    },
    {
     "data": {
      "image/png": "[encoded data removed]",
      "text/plain": [
       "<Figure size 432x288 with 1 Axes>"
      ]
     },
     "metadata": {
      "needs_background": "light"
     },
     "output_type": "display_data"
    }
   ],
   "source": [
    "arr = test_map[map_id,task_id,2]\n",
    "# arr = np.transpose(arr,(1,2,0))\n",
    "# arr = arr[2]\n",
    "arr = arr.T\n",
    "print (arr.shape)\n",
    "plt.axis('off')\n",
    "# im = Image.fromarray(arr)\n",
    "imgplot = plt.imshow(arr)\n",
    "plt.gca().invert_yaxis()"
   ]
  },
  {
   "cell_type": "code",
   "execution_count": 55,
   "id": "c93f232b",
   "metadata": {},
   "outputs": [
    {
     "name": "stdout",
     "output_type": "stream",
     "text": [
      "(64, 64, 3)\n"
     ]
    },
    {
     "data": {
      "image/png": "[encoded data removed]",
      "text/plain": [
       "<Figure size 432x288 with 1 Axes>"
      ]
     },
     "metadata": {
      "needs_background": "light"
     },
     "output_type": "display_data"
    }
   ],
   "source": [
    "arr = test_map[map_id,task_id,3]\n",
    "# arr = np.transpose(arr,(1,2,0))\n",
    "# arr = arr[2]\n",
    "arr = arr.T\n",
    "print (arr.shape)\n",
    "plt.axis('off')\n",
    "# im = Image.fromarray(arr)\n",
    "imgplot = plt.imshow(arr)\n",
    "plt.gca().invert_yaxis()"
   ]
  },
  {
   "cell_type": "code",
   "execution_count": 56,
   "id": "34ab614f",
   "metadata": {},
   "outputs": [
    {
     "name": "stdout",
     "output_type": "stream",
     "text": [
      "(64, 64, 3)\n"
     ]
    },
    {
     "data": {
      "image/png": "[encoded data removed]",
      "text/plain": [
       "<Figure size 432x288 with 1 Axes>"
      ]
     },
     "metadata": {
      "needs_background": "light"
     },
     "output_type": "display_data"
    }
   ],
   "source": [
    "arr = test_map[map_id,task_id,4]\n",
    "# arr = np.transpose(arr,(1,2,0))\n",
    "# arr = arr[2]\n",
    "arr = arr.T\n",
    "print (arr.shape)\n",
    "plt.axis('off')\n",
    "# im = Image.fromarray(arr)\n",
    "imgplot = plt.imshow(arr)\n",
    "plt.gca().invert_yaxis()"
   ]
  },
  {
   "cell_type": "code",
   "execution_count": 57,
   "id": "2e6da4f2",
   "metadata": {},
   "outputs": [
    {
     "name": "stdout",
     "output_type": "stream",
     "text": [
      "(64, 64, 3)\n"
     ]
    },
    {
     "data": {
      "image/png": "[encoded data removed]",
      "text/plain": [
       "<Figure size 432x288 with 1 Axes>"
      ]
     },
     "metadata": {
      "needs_background": "light"
     },
     "output_type": "display_data"
    }
   ],
   "source": [
    "arr = test_map[map_id,task_id,5]\n",
    "# arr = np.transpose(arr,(1,2,0))\n",
    "# arr = arr[2]\n",
    "arr = arr.T\n",
    "print (arr.shape)\n",
    "plt.axis('off')\n",
    "# im = Image.fromarray(arr)\n",
    "imgplot = plt.imshow(arr)\n",
    "plt.gca().invert_yaxis()"
   ]
  },
  {
   "cell_type": "code",
   "execution_count": 17,
   "id": "117b6516",
   "metadata": {
    "scrolled": false
   },
   "outputs": [
    {
     "name": "stdout",
     "output_type": "stream",
     "text": [
      "(3, 64, 64)\n"
     ]
    },
    {
     "name": "stderr",
     "output_type": "stream",
     "text": [
      "/tmp/ipykernel_122261/296845709.py:18: UserWarning: color is redundantly defined by the 'color' keyword argument and the fmt string \"ro-\" (-> color='r'). The keyword argument will take precedence.\n",
      "  plt.plot(x,y, 'ro-', color='red')\n",
      "/tmp/ipykernel_122261/296845709.py:27: UserWarning: color is redundantly defined by the 'color' keyword argument and the fmt string \"ro\" (-> color='r'). The keyword argument will take precedence.\n",
      "  plt.plot(x[0], y[0], 'ro', color='green')\n",
      "/tmp/ipykernel_122261/296845709.py:28: UserWarning: color is redundantly defined by the 'color' keyword argument and the fmt string \"ro\" (-> color='r'). The keyword argument will take precedence.\n",
      "  plt.plot(x[-1], y[-1], 'ro', color='blue')\n"
     ]
    },
    {
     "data": {
      "image/png": "[encoded data removed]",
      "text/plain": [
       "<Figure size 432x288 with 1 Axes>"
      ]
     },
     "metadata": {
      "needs_background": "light"
     },
     "output_type": "display_data"
    }
   ],
   "source": [
    "import matplotlib.pyplot as plt\n",
    "first_frame = np.copy(test_map[map_id, task_id,0,:,:,:])\n",
    "print (first_frame.shape)\n",
    "# plt.axis('off')\n",
    "first_frame[1,:,:] = 0\n",
    "first_frame[2,:,:] = 0\n",
    "\n",
    "\n",
    "# first_frame = np.transpose(first_frame,(1,2,0))\n",
    "\n",
    "plt.imshow(first_frame[0,:,:].T)\n",
    "\n",
    "plt.gca().invert_yaxis()\n",
    "\n",
    "path = [(2, 59), (22, 44), (36, 32), (40, 23), (55, 12), (54, 6), (56, 3)]\n",
    "x = [x for x,y in path]\n",
    "y = [y for x,y in path]\n",
    "plt.plot(x,y, 'ro-', color='red')\n",
    "\n",
    "vis_search = [(40, 23, 55, 1), (40, 23, 54, 1), (40, 23, 55, 5), (40, 23, 55, 0), (40, 23, 54, 0), (40, 23, 55, 6), (40, 23, 56, 4), (40, 23, 55, 2), (40, 23, 54, 2), (40, 23, 57, 6), (40, 23, 53, 1), (40, 23, 54, 6), (40, 23, 57, 1), (40, 23, 56, 6)]\n",
    "for a,b,c,d in vis_search:\n",
    "    plt.plot((a,c),(b,d), color = \"white\")\n",
    "#     newline((a,b),(c,d))\n",
    "#     plt.plot(a,c, 'ro-', color='red')\n",
    "#     plt.plot(b,d, 'ro-', color='red')\n",
    "\n",
    "plt.plot(x[0], y[0], 'ro', color='green')\n",
    "plt.plot(x[-1], y[-1], 'ro', color='blue')\n",
    "\n",
    "plt.axis('off')\n",
    "plt.show()"
   ]
  },
  {
   "cell_type": "code",
   "execution_count": null,
   "id": "76118775",
   "metadata": {},
   "outputs": [],
   "source": []
  },
  {
   "cell_type": "code",
   "execution_count": 5,
   "id": "7e311ebc",
   "metadata": {},
   "outputs": [
    {
     "name": "stdout",
     "output_type": "stream",
     "text": [
      "86.05089583875198\n"
     ]
    }
   ],
   "source": [
    "import math\n",
    "path = [(2,7),(24,30),(21,33),(40,40),(60,62)]\n",
    "length = 0\n",
    "for i in range(len(path)-1):\n",
    "    length += math.sqrt((path[i+1][0]-path[i][0])**2 + (path[i+1][1]-path[i][1])**2)\n",
    "print (length)"
   ]
  },
  {
   "cell_type": "code",
   "execution_count": null,
   "id": "754fc979",
   "metadata": {},
   "outputs": [],
   "source": [
    "# test_map = test_map/255.0"
   ]
  },
  {
   "cell_type": "code",
   "execution_count": 23,
   "id": "f6e9b402",
   "metadata": {},
   "outputs": [
    {
     "name": "stdout",
     "output_type": "stream",
     "text": [
      "(64, 64, 3)\n"
     ]
    },
    {
     "data": {
      "image/png": "[encoded data removed]",
      "text/plain": [
       "<Figure size 432x288 with 1 Axes>"
      ]
     },
     "metadata": {
      "needs_background": "light"
     },
     "output_type": "display_data"
    }
   ],
   "source": [
    "\n",
    "\n",
    "# from PIL import Image\n",
    "# arr = np.random.randint(0,256, 100*100).astype(np.uint8) #example of a 1-D array\n",
    "# arr = arr.reshape((100,100))\n",
    "arr = test_map[map_id,task_id,0]\n",
    "arr = np.transpose(arr,(1,2,0))\n",
    "# arr = arr[2]\n",
    "print (arr.shape)\n",
    "# im = Image.fromarray(arr)\n",
    "imgplot = plt.imshow(arr)"
   ]
  },
  {
   "cell_type": "code",
   "execution_count": 24,
   "id": "e208971b",
   "metadata": {},
   "outputs": [
    {
     "name": "stdout",
     "output_type": "stream",
     "text": [
      "(64, 64, 3)\n"
     ]
    },
    {
     "data": {
      "image/png": "[encoded data removed]",
      "text/plain": [
       "<Figure size 432x288 with 1 Axes>"
      ]
     },
     "metadata": {
      "needs_background": "light"
     },
     "output_type": "display_data"
    }
   ],
   "source": [
    "arr = test_map[map_id,task_id,1]\n",
    "arr = np.transpose(arr,(1,2,0))\n",
    "print (arr.shape)\n",
    "# im = Image.fromarray(arr)\n",
    "imgplot = plt.imshow(arr)"
   ]
  },
  {
   "cell_type": "code",
   "execution_count": 25,
   "id": "4db47761",
   "metadata": {},
   "outputs": [
    {
     "name": "stdout",
     "output_type": "stream",
     "text": [
      "(64, 64, 3)\n"
     ]
    },
    {
     "data": {
      "image/png": "[encoded data removed]",
      "text/plain": [
       "<Figure size 432x288 with 1 Axes>"
      ]
     },
     "metadata": {
      "needs_background": "light"
     },
     "output_type": "display_data"
    }
   ],
   "source": [
    "arr = test_map[map_id,task_id,2]\n",
    "arr = np.transpose(arr,(1,2,0))\n",
    "print (arr.shape)\n",
    "# im = Image.fromarray(arr)\n",
    "imgplot = plt.imshow(arr)"
   ]
  },
  {
   "cell_type": "code",
   "execution_count": 26,
   "id": "e4185e90",
   "metadata": {},
   "outputs": [
    {
     "name": "stdout",
     "output_type": "stream",
     "text": [
      "(3, 64, 64)\n"
     ]
    },
    {
     "data": {
      "image/png": "[encoded data removed]",
      "text/plain": [
       "<Figure size 432x288 with 1 Axes>"
      ]
     },
     "metadata": {
      "needs_background": "light"
     },
     "output_type": "display_data"
    }
   ],
   "source": [
    "arr = test_map[map_id,task_id,3]\n",
    "print (arr.shape)\n",
    "arr = np.transpose(arr,(1,2,0))\n",
    "# im = Image.fromarray(arr)\n",
    "imgplot = plt.imshow(arr)"
   ]
  },
  {
   "cell_type": "code",
   "execution_count": 27,
   "id": "6cc8c58b",
   "metadata": {},
   "outputs": [
    {
     "name": "stdout",
     "output_type": "stream",
     "text": [
      "(64, 64, 3)\n"
     ]
    },
    {
     "data": {
      "image/png": "[encoded data removed]",
      "text/plain": [
       "<Figure size 432x288 with 1 Axes>"
      ]
     },
     "metadata": {
      "needs_background": "light"
     },
     "output_type": "display_data"
    }
   ],
   "source": [
    "arr = test_map[map_id,task_id,4]\n",
    "arr = np.transpose(arr,(1,2,0))\n",
    "print (arr.shape)\n",
    "# im = Image.fromarray(arr)\n",
    "imgplot = plt.imshow(arr)"
   ]
  },
  {
   "cell_type": "code",
   "execution_count": 28,
   "id": "349407fc",
   "metadata": {},
   "outputs": [
    {
     "name": "stdout",
     "output_type": "stream",
     "text": [
      "(64, 64, 3)\n"
     ]
    },
    {
     "data": {
      "image/png": "[encoded data removed]",
      "text/plain": [
       "<Figure size 432x288 with 1 Axes>"
      ]
     },
     "metadata": {
      "needs_background": "light"
     },
     "output_type": "display_data"
    }
   ],
   "source": [
    "arr = test_map[map_id,task_id,5]\n",
    "arr = np.transpose(arr,(1,2,0))\n",
    "print (arr.shape)\n",
    "# im = Image.fromarray(arr)\n",
    "imgplot = plt.imshow(arr)"
   ]
  },
  {
   "cell_type": "code",
   "execution_count": 10,
   "id": "2b8bbdd7",
   "metadata": {},
   "outputs": [
    {
     "name": "stdout",
     "output_type": "stream",
     "text": [
      "(64, 64, 3)\n"
     ]
    },
    {
     "data": {
      "image/png": "[encoded data removed]",
      "text/plain": [
       "<Figure size 432x288 with 1 Axes>"
      ]
     },
     "metadata": {
      "needs_background": "light"
     },
     "output_type": "display_data"
    }
   ],
   "source": [
    "arr = test_map[map_id,task_id,6]\n",
    "arr = np.transpose(arr,(1,2,0))\n",
    "print (arr.shape)\n",
    "# im = Image.fromarray(arr)\n",
    "imgplot = plt.imshow(arr)"
   ]
  },
  {
   "cell_type": "code",
   "execution_count": 11,
   "id": "b3615829",
   "metadata": {},
   "outputs": [
    {
     "name": "stdout",
     "output_type": "stream",
     "text": [
      "(64, 64, 3)\n"
     ]
    },
    {
     "data": {
      "image/png": "[encoded data removed]",
      "text/plain": [
       "<Figure size 432x288 with 1 Axes>"
      ]
     },
     "metadata": {
      "needs_background": "light"
     },
     "output_type": "display_data"
    }
   ],
   "source": [
    "arr = test_map[map_id,task_id,7]\n",
    "arr = np.transpose(arr,(1,2,0))\n",
    "print (arr.shape)\n",
    "# im = Image.fromarray(arr)\n",
    "imgplot = plt.imshow(arr)"
   ]
  },
  {
   "cell_type": "code",
   "execution_count": 30,
   "id": "2542d3ba",
   "metadata": {},
   "outputs": [
    {
     "name": "stdout",
     "output_type": "stream",
     "text": [
      "(64, 64, 3)\n"
     ]
    },
    {
     "data": {
      "image/png": "[encoded data removed]",
      "text/plain": [
       "<Figure size 432x288 with 1 Axes>"
      ]
     },
     "metadata": {
      "needs_background": "light"
     },
     "output_type": "display_data"
    }
   ],
   "source": [
    "arr = test_map[map_id,task_id,8]\n",
    "arr = np.transpose(arr,(1,2,0))\n",
    "print (arr.shape)\n",
    "# im = Image.fromarray(arr)\n",
    "imgplot = plt.imshow(arr)"
   ]
  },
  {
   "cell_type": "code",
   "execution_count": null,
   "id": "1b37566c",
   "metadata": {},
   "outputs": [],
   "source": []
  },
  {
   "cell_type": "code",
   "execution_count": null,
   "id": "ef96e771",
   "metadata": {},
   "outputs": [],
   "source": []
  }
 ],
 "metadata": {
  "kernelspec": {
   "display_name": "Python 3 (ipykernel)",
   "language": "python",
   "name": "python3"
  },
  "language_info": {
   "codemirror_mode": {
    "name": "ipython",
    "version": 3
   },
   "file_extension": ".py",
   "mimetype": "text/x-python",
   "name": "python",
   "nbconvert_exporter": "python",
   "pygments_lexer": "ipython3",
   "version": "3.8.10"
  }
 },
 "nbformat": 4,
 "nbformat_minor": 5
}
