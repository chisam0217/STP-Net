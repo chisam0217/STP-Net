{
 "cells": [
  {
   "cell_type": "code",
   "execution_count": 5,
   "id": "26b9dd3a",
   "metadata": {},
   "outputs": [],
   "source": [
    "import numpy as np"
   ]
  },
  {
   "cell_type": "code",
   "execution_count": 6,
   "id": "d878fc71",
   "metadata": {},
   "outputs": [],
   "source": [
    "# path = \"/home/xiao/Projects/predrnn-pytorch/data/moving-mnist-example/moving-mnist-test.npz\"\n",
    "# data = {}\n",
    "# dat_1 = np.load(path)\n",
    "# for key in dat_1.keys():\n",
    "#     print ('key', key)\n",
    "#     data[key] = dat_1[key]\n",
    "# print ('data[clips]', data['clips'], data['clips'].shape)\n",
    "# print ('data[dims]', data['dims'], data['dims'].shape)\n",
    "# print ('data[input_raw_data]', data['input_raw_data'], data['input_raw_data'].shape, np.median(data['input_raw_data']), np.max(data['input_raw_data']))\n",
    "# print ('max', data['input_raw_data'].max(), data['input_raw_data'].min())\n",
    "\n",
    "# # path = \"/home/xiao/Projects/ST_LSTM_MP/Data/2D_map/Map_array/normalized_train_video.npz\"\n",
    "# # data = np.load(path)\n",
    "# # for key in data.keys():\n",
    "# #     print ('key', key)\n",
    "\n",
    "# # print ('data[clips]', data['clips'].shape)\n",
    "# # print ('data[dims]', data['dims'])\n",
    "# # print ('data[input_raw_data]', data['input_raw_data'].shape, np.median(data['input_raw_data']), np.max(data['input_raw_data']))\n"
   ]
  },
  {
   "cell_type": "code",
   "execution_count": 7,
   "id": "21a72501",
   "metadata": {},
   "outputs": [
    {
     "name": "stdout",
     "output_type": "stream",
     "text": [
      "111\n"
     ]
    }
   ],
   "source": [
    "import os.path as op\n",
    "arr_dir = \"../../Data/2D_map_64/Map_array\"\n",
    "total_maz = np.load(op.join(arr_dir, 'maz.npy'))\n",
    "print (\"111\")"
   ]
  },
  {
   "cell_type": "code",
   "execution_count": 8,
   "id": "3e3893bd",
   "metadata": {},
   "outputs": [
    {
     "name": "stdout",
     "output_type": "stream",
     "text": [
      "total_maz (120, 64, 64)\n",
      "train_path (160000, 16, 2)\n"
     ]
    }
   ],
   "source": [
    "train_file = op.join(arr_dir, \"train_path.npy\")\n",
    "train_path = np.load(train_file)\n",
    "\n",
    "print ('total_maz', total_maz.shape)\n",
    "print ('train_path', train_path.shape)\n"
   ]
  },
  {
   "cell_type": "code",
   "execution_count": 9,
   "id": "e478868b",
   "metadata": {},
   "outputs": [
    {
     "name": "stdout",
     "output_type": "stream",
     "text": [
      "train_path (100, 1600, 16, 2) 63 0\n"
     ]
    }
   ],
   "source": [
    "train_path = np.reshape(train_path, (100, -1, train_path.shape[1], train_path.shape[2]))\n",
    "print ('train_path', train_path.shape, np.max(train_path), np.min(train_path))"
   ]
  },
  {
   "cell_type": "code",
   "execution_count": 10,
   "id": "97033088",
   "metadata": {},
   "outputs": [
    {
     "name": "stdout",
     "output_type": "stream",
     "text": [
      "train_video (100, 1600, 16, 64, 64)\n",
      "max min 1.0 0.003921569\n"
     ]
    }
   ],
   "source": [
    "train_video = []\n",
    "for maz_id in range(train_path.shape[0]):\n",
    "    video_per_maz = []\n",
    "    for task_id in range(train_path.shape[1]):\n",
    "#     for task_id in range(1000):\n",
    "        start, goal = train_path[maz_id][task_id][0], train_path[maz_id][task_id][-1]\n",
    "        maz = np.copy(total_maz[maz_id])\n",
    "        maz[start[0], start[1]] = 64 #XXXXX\n",
    "        maz[goal[0], goal[1]] = 192 #XXXXX\n",
    "        repeated_maz = np.tile(maz, (train_path.shape[2], 1))\n",
    "        repeated_maz = np.reshape(repeated_maz, (train_path.shape[2], maz.shape[0], maz.shape[1]))\n",
    "#         print (repeated_maz.shape)\n",
    "        for path_id in range(1, train_path.shape[2]-1):\n",
    "            pos = train_path[maz_id][task_id][path_id]\n",
    "#             print ('pos', pos)\n",
    "#             print ('repeated_maz[path_id:-1]', repeated_maz[path_id:-1].shape)\n",
    "            repeated_maz[path_id, pos[0], pos[1]] = 128\n",
    "#             for i in range(path_id, )\n",
    "        repeated_maz[path_id+1, pos[0], pos[1]] = 128\n",
    "        video_per_maz.append(repeated_maz)\n",
    "    video_per_maz = np.array(video_per_maz)\n",
    "#     print ('video_per_maz', video_per_maz.shape)\n",
    "    train_video.append(video_per_maz)\n",
    "train_video = np.stack(train_video)\n",
    "print ('train_video', train_video.shape)\n",
    "video_num = train_video.shape[0] * 1000\n",
    "video_len = train_video.shape[2]\n",
    "\n",
    "train_video = train_video/255.0\n",
    "np.save(op.join(arr_dir, \"train_video.npy\"), train_video)\n",
    "print ('max min', train_video.max(), train_video.min())\n",
    "\n"
   ]
  },
  {
   "cell_type": "code",
   "execution_count": null,
   "id": "c97a8506",
   "metadata": {},
   "outputs": [
    {
     "name": "stdout",
     "output_type": "stream",
     "text": [
      "train_video (2560000, 1, 64, 64)\n",
      "(2, 100000, 2)\n"
     ]
    }
   ],
   "source": [
    "train_video = np.reshape(train_video, (-1, 1, train_video.shape[3], train_video.shape[4])).astype(np.float32)\n",
    "print ('train_video', train_video.shape)\n",
    "\n",
    "dims = np.array([1, train_video.shape[-2], train_video.shape[-1]])\n",
    "dims = np.expand_dims(dims, axis=0)\n",
    "# print (dims)\n",
    "input_seq = 5\n",
    "input_start = np.arange(0, video_num*video_len, video_len).astype(np.int32)\n",
    "output_start = np.arange(input_seq, video_num*video_len, video_len).astype(np.int32)\n",
    "# print (input_start.shape,input_start)\n",
    "# print (output_start.shape, output_start)\n",
    "# print (np.ones(video_num).astype(np.int32).shape)\n",
    "input_start = np.stack((input_start, input_seq * np.ones(video_num).astype(np.int32)))\n",
    "output_start = np.stack((output_start, (video_len-input_seq) * np.ones(video_num).astype(np.int32)))\n",
    "input_start = np.transpose(input_start)\n",
    "output_start = np.transpose(output_start)\n",
    "# print (input_start.shape,input_start)\n",
    "# print (output_start.shape, output_start)\n",
    "clips = np.stack((input_start, output_start))\n",
    "print (clips.shape)\n",
    "np.savez(op.join(arr_dir, \"normalized_train_video.npz\"), dims=dims, clips=clips, input_raw_data=train_video)\n",
    "\n"
   ]
  },
  {
   "cell_type": "code",
   "execution_count": null,
   "id": "2cd99b29",
   "metadata": {},
   "outputs": [],
   "source": [
    "test_seen_file = op.join(arr_dir, \"test_seen_path.npy\")\n",
    "test_seen_path = np.load(test_seen_file)\n",
    "print ('test_seen_path', test_seen_path.shape)\n",
    "\n",
    "test_seen_path = np.reshape(test_seen_path, (100, -1, test_seen_path.shape[1], test_seen_path.shape[2]))\n",
    "print ('test_seen_path', test_seen_path.shape)"
   ]
  },
  {
   "cell_type": "code",
   "execution_count": null,
   "id": "b35bf8ab",
   "metadata": {},
   "outputs": [],
   "source": [
    "test_seen_video = []\n",
    "for maz_id in range(test_seen_path.shape[0]):\n",
    "    video_per_maz = []\n",
    "    for task_id in range(test_seen_path.shape[1]):\n",
    "#     for task_id in range(200):\n",
    "        start, goal = test_seen_path[maz_id][task_id][0], test_seen_path[maz_id][task_id][-1]\n",
    "#         print ('start goal', start, goal)\n",
    "#         print ('path', test_seen_path[maz_id][task_id])\n",
    "        maz = np.copy(total_maz[maz_id])\n",
    "        maz[start[0], start[1]] = 64 #XXXXX\n",
    "        maz[goal[0], goal[1]] = 192 #XXXXX\n",
    "        repeated_maz = np.tile(maz, (test_seen_path.shape[2], 1))\n",
    "#         print ('tile', repeated_maz.shape)\n",
    "        repeated_maz = np.reshape(repeated_maz, (test_seen_path.shape[2], maz.shape[0], maz.shape[1]))\n",
    "#         print ('reshape', repeated_maz.shape)\n",
    "         \n",
    "#         for path_id in range(1, test_seen_path.shape[2]-1):\n",
    "#             pos = test_seen_path[maz_id][task_id][path_id]\n",
    "#             repeated_maz[path_id:, pos[0], pos[1]] = 128 #XXXXX\n",
    "\n",
    "        for path_id in range(1, test_seen_path.shape[2]-1):\n",
    "            pos = test_seen_path[maz_id][task_id][path_id]\n",
    "            repeated_maz[path_id, pos[0], pos[1]] = 128 #XXXXX\n",
    "        repeated_maz[path_id+1, pos[0], pos[1]] = 128\n",
    "            \n",
    "        video_per_maz.append(repeated_maz)\n",
    "    video_per_maz = np.array(video_per_maz)\n",
    "    test_seen_video.append(video_per_maz)\n",
    "test_seen_video = np.array(test_seen_video)\n",
    "print ('test_seen_video', test_seen_video.shape)\n",
    "# video_num = test_seen_video.shape[0] * test_seen_video.shape[1]\n",
    "video_num = test_seen_video.shape[0] * 200\n",
    "video_len = test_seen_video.shape[2]\n",
    "\n",
    "test_seen_video = test_seen_video/255.0\n",
    "np.save(op.join(arr_dir, \"test_seen_video.npy\"), test_seen_video)\n",
    "    "
   ]
  },
  {
   "cell_type": "code",
   "execution_count": null,
   "id": "3d877ddb",
   "metadata": {},
   "outputs": [],
   "source": [
    "test_seen_video = np.reshape(test_seen_video, (-1, 1, test_seen_video.shape[3], test_seen_video.shape[4])).astype(np.float32)\n",
    "\n",
    "dims = np.array([1, test_seen_video.shape[-2], test_seen_video.shape[-1]])\n",
    "dims = np.expand_dims(dims, axis=0)\n",
    "# print (dims)\n",
    "input_seq = 1\n",
    "input_start = np.arange(0, video_num*video_len, video_len).astype(np.int32)\n",
    "output_start = np.arange(input_seq, video_num*video_len, video_len).astype(np.int32)\n",
    "# print (input_start.shape,input_start)\n",
    "# print (output_start.shape, output_start)\n",
    "# print (np.ones(video_num).astype(np.int32).shape)\n",
    "input_start = np.stack((input_start, input_seq * np.ones(video_num).astype(np.int32)))\n",
    "output_start = np.stack((output_start, (video_len-input_seq) * np.ones(video_num).astype(np.int32)))\n",
    "input_start = np.transpose(input_start)\n",
    "output_start = np.transpose(output_start)\n",
    "# print (input_start.shape,input_start)\n",
    "# print (output_start.shape, output_start)\n",
    "clips = np.stack((input_start, output_start))\n",
    "print (clips.shape)\n",
    "np.savez(op.join(arr_dir, \"normalized_test_seen_video.npz\"), dims=dims, clips=clips, input_raw_data=test_seen_video)\n"
   ]
  },
  {
   "cell_type": "code",
   "execution_count": null,
   "id": "670f1fc7",
   "metadata": {},
   "outputs": [],
   "source": [
    "test_unseen_file = op.join(arr_dir, \"test_unseen_path.npy\")\n",
    "test_unseen_path = np.load(test_unseen_file)\n",
    "print ('test_unseen_path', test_unseen_path.shape)\n",
    "\n",
    "test_unseen_path = np.reshape(test_unseen_path, (20, -1, test_unseen_path.shape[1], test_unseen_path.shape[2]))\n",
    "print ('test_unseen_path', test_unseen_path.shape)"
   ]
  },
  {
   "cell_type": "code",
   "execution_count": null,
   "id": "b772df96",
   "metadata": {},
   "outputs": [],
   "source": [
    "test_unseen_video = []\n",
    "for maz_id in range(test_unseen_path.shape[0]):\n",
    "    video_per_maz = []\n",
    "    for task_id in range(test_unseen_path.shape[1]):\n",
    "        start, goal = test_unseen_path[maz_id][task_id][0], test_unseen_path[maz_id][task_id][-1]\n",
    "        maz = np.copy(total_maz[100 + maz_id])\n",
    "        maz[start[0], start[1]] = 64 #XXXXX\n",
    "        maz[goal[0], goal[1]] = 192 #XXXXX\n",
    "        repeated_maz = np.tile(maz, (test_unseen_path.shape[2], 1))\n",
    "        repeated_maz = np.reshape(repeated_maz, (test_unseen_path.shape[2], maz.shape[0], maz.shape[1]))\n",
    "#         print (repeated_maz.shape)\n",
    "        for path_id in range(1, test_unseen_path.shape[2]-1):\n",
    "            pos = test_unseen_path[maz_id][task_id][path_id]\n",
    "#             print ('pos', pos)\n",
    "#             print ('repeated_maz[path_id:-1]', repeated_maz[path_id:-1].shape)\n",
    "            repeated_maz[path_id, pos[0], pos[1]] = 128\n",
    "        repeated_maz[path_id+1, pos[0], pos[1]] = 128\n",
    "#             for i in range(path_id, )\n",
    "        video_per_maz.append(repeated_maz)\n",
    "    video_per_maz = np.array(video_per_maz)\n",
    "    test_unseen_video.append(video_per_maz)\n",
    "test_unseen_video = np.array(test_unseen_video)\n",
    "print ('test_unseen_video', test_unseen_video.shape)\n",
    "video_num = test_unseen_video.shape[0] * test_unseen_video.shape[1]\n",
    "video_len = test_unseen_video.shape[2]\n",
    "test_unseen_video = test_seen_video/255.0\n",
    "np.save(op.join(arr_dir, \"test_unseen_video.npy\"), test_unseen_video)\n",
    "    "
   ]
  },
  {
   "cell_type": "code",
   "execution_count": null,
   "id": "bc1510aa",
   "metadata": {},
   "outputs": [],
   "source": [
    "test_unseen_video = np.reshape(test_unseen_video, (-1, 1, test_unseen_video.shape[3], test_unseen_video.shape[4])).astype(np.float32)\n",
    "\n",
    "dims = np.array([1, test_unseen_video.shape[-2], test_unseen_video.shape[-1]])\n",
    "dims = np.expand_dims(dims, axis=0)\n",
    "# print (dims)\n",
    "input_seq = 1\n",
    "input_start = np.arange(0, video_num*video_len, video_len).astype(np.int32)\n",
    "output_start = np.arange(input_seq, video_num*video_len, video_len).astype(np.int32)\n",
    "# print (input_start.shape,input_start)\n",
    "# print (output_start.shape, output_start)\n",
    "# print (np.ones(video_num).astype(np.int32).shape)\n",
    "input_start = np.stack((input_start, input_seq * np.ones(video_num).astype(np.int32)))\n",
    "output_start = np.stack((output_start, (video_len-input_seq) * np.ones(video_num).astype(np.int32)))\n",
    "input_start = np.transpose(input_start)\n",
    "output_start = np.transpose(output_start)\n",
    "# print (input_start.shape,input_start)\n",
    "# print (output_start.shape, output_start)\n",
    "clips = np.stack((input_start, output_start))\n",
    "print (clips.shape)\n",
    "np.savez(op.join(arr_dir, \"normalized_test_unseen_video.npz\"), dims=dims, clips=clips, input_raw_data=test_unseen_video)\n"
   ]
  },
  {
   "cell_type": "code",
   "execution_count": null,
   "id": "9f476665",
   "metadata": {},
   "outputs": [],
   "source": []
  },
  {
   "cell_type": "code",
   "execution_count": null,
   "id": "b6d95c7d",
   "metadata": {},
   "outputs": [],
   "source": []
  }
 ],
 "metadata": {
  "kernelspec": {
   "display_name": "Python 3 (ipykernel)",
   "language": "python",
   "name": "python3"
  },
  "language_info": {
   "codemirror_mode": {
    "name": "ipython",
    "version": 3
   },
   "file_extension": ".py",
   "mimetype": "text/x-python",
   "name": "python",
   "nbconvert_exporter": "python",
   "pygments_lexer": "ipython3",
   "version": "3.8.10"
  }
 },
 "nbformat": 4,
 "nbformat_minor": 5
}
