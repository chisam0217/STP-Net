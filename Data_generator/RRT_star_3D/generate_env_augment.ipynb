{
 "cells": [
  {
   "cell_type": "code",
   "execution_count": 1,
   "id": "ebe47c91",
   "metadata": {},
   "outputs": [
    {
     "name": "stdout",
     "output_type": "stream",
     "text": [
      "total_maz (120, 20, 20, 20)\n"
     ]
    }
   ],
   "source": [
    "import numpy as np\n",
    "import os.path as op\n",
    "arr_dir = \"../../Data/3D_map/Map_array\"\n",
    "total_maz = np.load(op.join(arr_dir, 'maz.npy'))\n",
    "print ('total_maz', total_maz.shape)"
   ]
  },
  {
   "cell_type": "code",
   "execution_count": 2,
   "id": "91399dbc",
   "metadata": {},
   "outputs": [
    {
     "name": "stdout",
     "output_type": "stream",
     "text": [
      "train_path (80000, 15, 3)\n"
     ]
    }
   ],
   "source": [
    "train_path = np.load(op.join(arr_dir, \"train_path.npy\"))\n",
    "\n",
    "\n",
    "print ('train_path', train_path.shape)"
   ]
  },
  {
   "cell_type": "code",
   "execution_count": 3,
   "id": "df1660e4",
   "metadata": {},
   "outputs": [
    {
     "name": "stdout",
     "output_type": "stream",
     "text": [
      "train_path (100, 800, 15, 3) 19 0\n"
     ]
    }
   ],
   "source": [
    "train_path = np.reshape(train_path, (100, -1, train_path.shape[1], train_path.shape[2]))\n",
    "\n",
    "print ('train_path', train_path.shape, np.max(train_path), np.min(train_path))\n",
    "\n",
    "\n",
    "# #select the paths with length less than 12\n",
    "# all_map = []\n",
    "# for i in range(train_path.shape[0]):\n",
    "#     per_map = []\n",
    "#     for j in range(train_path.shape[1]):\n",
    "#         if train_path[i,j,-5,0] == train_path[i,j,-1,0] and train_path[i,j,-5,1] == train_path[i,j,-1,1]:\n",
    "#             per_map.append(train_path[i,j,:-4,:])\n",
    "#     print ('per_map', len(per_map))\n",
    "#     all_map.append(per_map[:1000])\n",
    "# all_map = np.array(all_map)\n",
    "# train_path = all_map\n",
    "# print ('new train_path', train_path.shape)\n",
    "\n",
    "            "
   ]
  },
  {
   "cell_type": "code",
   "execution_count": 3,
   "id": "32a81394",
   "metadata": {},
   "outputs": [],
   "source": [
    "def augmentation(img, start_x, start_y, start_z, channel=1):\n",
    "#     start_x, start_y = np.where(img[1]==255)\n",
    "    h, w = 3, 3\n",
    "#     for i range(-3, 4):\n",
    "#         for j in range(-3, 4):\n",
    "#             x, y = start_x + i, start_y + j\n",
    "#             if img[0,x,y] != 255:\n",
    "#                 img[1,x,y] = 255\n",
    "#     start_x, start_y = np.where(img[2]==255)\n",
    "    for i in range(-1, 2):\n",
    "        for j in range(-1, 2):\n",
    "            for z in range(-1, 2):\n",
    "                x, y, z = start_x + i, start_y + j, start_z + z\n",
    "                if 0<=x<=(img.shape[-1]-1) and 0 <=y<=(img.shape[-1]-1) and 0 <=z<=(img.shape[-1]-1) and img[0,x,y,z] != 255:\n",
    "                    img[channel,x,y,z] = 255\n",
    "    return img\n",
    "            "
   ]
  },
  {
   "cell_type": "code",
   "execution_count": 4,
   "id": "4c3e6fff",
   "metadata": {},
   "outputs": [],
   "source": [
    "def generate_video(maz, path, seen=True, video_number=0):\n",
    "\n",
    "    if not video_number:\n",
    "        video_number = path.shape[1]\n",
    "    for maz_id in range(path.shape[0]):\n",
    "        video_per_maz = []\n",
    "#         for task_id in range(path.shape[1]):\n",
    "        for task_id in range(video_number):\n",
    "            start, goal = path[maz_id, task_id, 0], path[maz_id, task_id, -1]\n",
    "            maz_3channel = np.zeros((3, maz.shape[1], maz.shape[2], maz.shape[3]))\n",
    "            if seen:\n",
    "                maz_3channel[0] = np.copy(total_maz[maz_id])\n",
    "            else:\n",
    "                maz_3channel[0] = np.copy(total_maz[maz_id+100])\n",
    "#             maz_3channel[1, start[0], start[1]] = 255\n",
    "            maz_3channel[2, goal[0], goal[1], goal[2]] = 255\n",
    "            maz_3channel = augmentation(maz_3channel, goal[0], goal[1], goal[2], 2)\n",
    "            repeated_maz = np.tile(maz_3channel, (path.shape[2], 1, 1, 1))\n",
    "            \n",
    "#             print ('repeated_maz', repeated_maz.shape)\n",
    "            repeated_maz = np.reshape(repeated_maz, (path.shape[2], 3, maz.shape[1], maz.shape[2], maz.shape[3]))\n",
    "#             print ('repeated_maz', repeated_maz.shape)\n",
    "            for path_id in range(0, path.shape[2]):#-1):\n",
    "                pos = path[maz_id, task_id, path_id]\n",
    "                repeated_maz[path_id, 1, pos[0], pos[1], pos[2]] = 255\n",
    "                repeated_maz[path_id] = augmentation(repeated_maz[path_id], pos[0], pos[1], pos[2], 1)\n",
    "#                 repeated_maz = augmentation(repeated_maz, goal[0], goal[1])\n",
    "                \n",
    "#             repeated_maz[path_id+1, 1, pos[0], pos[1]] = 255\n",
    "#             repeated_maz[path_id+1] = augmentation(repeated_maz[path_id+1], pos[0], pos[1], 1)\n",
    "            \n",
    "            \n",
    "            video_per_maz.append(repeated_maz)\n",
    "        video_per_maz = np.array(video_per_maz)\n",
    "#         print ('video_per_maz', video_per_maz.shape)\n",
    "        video_per_maz = np.expand_dims(video_per_maz, axis = 0)\n",
    "        if maz_id == 0:\n",
    "            videos = video_per_maz\n",
    "        else:\n",
    "            videos = np.concatenate((videos, video_per_maz), axis=0)\n",
    "        \n",
    "#         print ('video_per_maz', video_per_maz.shape)\n",
    "        print ('videos', videos.shape)\n",
    "#         videos.append(video_per_maz)\n",
    "#     videos = np.stack(videos)\n",
    "    \n",
    "    return videos\n",
    "    \n",
    "                "
   ]
  },
  {
   "cell_type": "code",
   "execution_count": 10,
   "id": "15037a8d",
   "metadata": {
    "scrolled": false
   },
   "outputs": [
    {
     "name": "stdout",
     "output_type": "stream",
     "text": [
      "videos (1, 800, 15, 3, 20, 20, 20)\n",
      "videos (2, 800, 15, 3, 20, 20, 20)\n",
      "videos (3, 800, 15, 3, 20, 20, 20)\n",
      "videos (4, 800, 15, 3, 20, 20, 20)\n",
      "videos (5, 800, 15, 3, 20, 20, 20)\n",
      "videos (6, 800, 15, 3, 20, 20, 20)\n",
      "videos (7, 800, 15, 3, 20, 20, 20)\n",
      "videos (8, 800, 15, 3, 20, 20, 20)\n",
      "videos (9, 800, 15, 3, 20, 20, 20)\n",
      "videos (10, 800, 15, 3, 20, 20, 20)\n",
      "videos (11, 800, 15, 3, 20, 20, 20)\n",
      "videos (12, 800, 15, 3, 20, 20, 20)\n",
      "videos (13, 800, 15, 3, 20, 20, 20)\n",
      "videos (14, 800, 15, 3, 20, 20, 20)\n",
      "videos (15, 800, 15, 3, 20, 20, 20)\n",
      "videos (16, 800, 15, 3, 20, 20, 20)\n",
      "videos (17, 800, 15, 3, 20, 20, 20)\n",
      "videos (18, 800, 15, 3, 20, 20, 20)\n",
      "videos (19, 800, 15, 3, 20, 20, 20)\n",
      "videos (20, 800, 15, 3, 20, 20, 20)\n",
      "videos (21, 800, 15, 3, 20, 20, 20)\n",
      "videos (22, 800, 15, 3, 20, 20, 20)\n",
      "videos (23, 800, 15, 3, 20, 20, 20)\n",
      "videos (24, 800, 15, 3, 20, 20, 20)\n",
      "videos (25, 800, 15, 3, 20, 20, 20)\n",
      "videos (26, 800, 15, 3, 20, 20, 20)\n",
      "videos (27, 800, 15, 3, 20, 20, 20)\n",
      "videos (28, 800, 15, 3, 20, 20, 20)\n",
      "videos (29, 800, 15, 3, 20, 20, 20)\n",
      "videos (30, 800, 15, 3, 20, 20, 20)\n",
      "videos (31, 800, 15, 3, 20, 20, 20)\n",
      "videos (32, 800, 15, 3, 20, 20, 20)\n",
      "videos (33, 800, 15, 3, 20, 20, 20)\n",
      "videos (34, 800, 15, 3, 20, 20, 20)\n",
      "videos (35, 800, 15, 3, 20, 20, 20)\n",
      "videos (36, 800, 15, 3, 20, 20, 20)\n",
      "videos (37, 800, 15, 3, 20, 20, 20)\n",
      "videos (38, 800, 15, 3, 20, 20, 20)\n",
      "videos (39, 800, 15, 3, 20, 20, 20)\n",
      "videos (40, 800, 15, 3, 20, 20, 20)\n",
      "videos (41, 800, 15, 3, 20, 20, 20)\n",
      "videos (42, 800, 15, 3, 20, 20, 20)\n",
      "videos (43, 800, 15, 3, 20, 20, 20)\n",
      "videos (44, 800, 15, 3, 20, 20, 20)\n",
      "videos (45, 800, 15, 3, 20, 20, 20)\n",
      "videos (46, 800, 15, 3, 20, 20, 20)\n",
      "videos (47, 800, 15, 3, 20, 20, 20)\n",
      "videos (48, 800, 15, 3, 20, 20, 20)\n",
      "videos (49, 800, 15, 3, 20, 20, 20)\n",
      "videos (50, 800, 15, 3, 20, 20, 20)\n"
     ]
    }
   ],
   "source": [
    "num = 800\n",
    "# train_videos = generate_video(total_maz, train_path[50:], True, num)\n",
    "train_videos = generate_video(total_maz, train_path, True, num)\n",
    "video_num = train_videos.shape[0] * num\n",
    "video_len = train_videos.shape[2]"
   ]
  },
  {
   "cell_type": "code",
   "execution_count": 11,
   "id": "ceb2430f",
   "metadata": {},
   "outputs": [
    {
     "name": "stdout",
     "output_type": "stream",
     "text": [
      "train_video00 (50, 800, 15, 3, 20, 20, 20)\n",
      "max min 1.0 0.0\n"
     ]
    }
   ],
   "source": [
    "train_videos = train_videos/255.0\n",
    "np.save(op.join(arr_dir, \"train_video.npy\"), train_videos)\n",
    "print ('train_video00', train_videos.shape)\n",
    "print ('max min', train_videos.max(), train_videos.min())"
   ]
  },
  {
   "cell_type": "code",
   "execution_count": 12,
   "id": "fddd13b9",
   "metadata": {},
   "outputs": [
    {
     "name": "stdout",
     "output_type": "stream",
     "text": [
      "train_video (600000, 3, 20, 20, 20)\n",
      "[[ 3 20 20 20]]\n",
      "(2, 40000, 2)\n"
     ]
    }
   ],
   "source": [
    "train_videos = np.reshape(train_videos, (-1, 3, train_videos.shape[-3], train_videos.shape[-2], train_videos.shape[-1])).astype(np.float32)\n",
    "print ('train_video', train_videos.shape)\n",
    "\n",
    "dims = np.array([3, train_videos.shape[-3], train_videos.shape[-2], train_videos.shape[-1]])\n",
    "dims = np.expand_dims(dims, axis=0)\n",
    "print (dims)\n",
    "input_seq = 7\n",
    "input_start = np.arange(0, video_num*video_len, video_len).astype(np.int32)\n",
    "output_start = np.arange(input_seq, video_num*video_len, video_len).astype(np.int32)\n",
    "# input_start = np.arange(600000, 600000+video_num*video_len, video_len).astype(np.int32)\n",
    "# output_start = np.arange(600000+input_seq, 600000+video_num*video_len, video_len).astype(np.int32)\n",
    "\n",
    "\n",
    "\n",
    "# print (input_start.shape,input_start)\n",
    "# print (output_start.shape, output_start)\n",
    "# print (np.ones(video_num).astype(np.int32).shape)\n",
    "input_start = np.stack((input_start, input_seq * np.ones(video_num).astype(np.int32)))\n",
    "output_start = np.stack((output_start, (video_len-input_seq) * np.ones(video_num).astype(np.int32)))\n",
    "input_start = np.transpose(input_start)\n",
    "output_start = np.transpose(output_start)\n",
    "# print (input_start.shape,input_start)\n",
    "# print (output_start.shape, output_start)\n",
    "clips = np.stack((input_start, output_start))\n",
    "print (clips.shape)\n",
    "np.savez(op.join(arr_dir, \"normalized_train_video.npz\"), dims=dims, clips=clips, input_raw_data=train_videos)\n"
   ]
  },
  {
   "cell_type": "code",
   "execution_count": 13,
   "id": "021486f0",
   "metadata": {},
   "outputs": [
    {
     "name": "stdout",
     "output_type": "stream",
     "text": [
      "output_start [[ 600007       8]\n",
      " [ 600022       8]\n",
      " [ 600037       8]\n",
      " ...\n",
      " [1199962       8]\n",
      " [1199977       8]\n",
      " [1199992       8]] (40000, 2)\n"
     ]
    }
   ],
   "source": [
    "print ('output_start', output_start, output_start.shape)"
   ]
  },
  {
   "cell_type": "code",
   "execution_count": 5,
   "id": "0acc3b8d",
   "metadata": {},
   "outputs": [
    {
     "name": "stdout",
     "output_type": "stream",
     "text": [
      "test_seen_path (20000, 14, 3)\n",
      "test_seen_path (100, 200, 14, 3)\n"
     ]
    }
   ],
   "source": [
    "test_seen_file = op.join(arr_dir, \"test_seen_path.npy\")\n",
    "test_seen_path = np.load(test_seen_file)\n",
    "print ('test_seen_path', test_seen_path.shape)\n",
    "\n",
    "test_seen_path = np.reshape(test_seen_path, (100, -1, test_seen_path.shape[1], test_seen_path.shape[2]))\n",
    "print ('test_seen_path', test_seen_path.shape)"
   ]
  },
  {
   "cell_type": "code",
   "execution_count": 6,
   "id": "47f44f7c",
   "metadata": {},
   "outputs": [
    {
     "name": "stdout",
     "output_type": "stream",
     "text": [
      "videos (1, 200, 14, 3, 20, 20, 20)\n",
      "videos (2, 200, 14, 3, 20, 20, 20)\n",
      "videos (3, 200, 14, 3, 20, 20, 20)\n",
      "videos (4, 200, 14, 3, 20, 20, 20)\n",
      "videos (5, 200, 14, 3, 20, 20, 20)\n",
      "videos (6, 200, 14, 3, 20, 20, 20)\n",
      "videos (7, 200, 14, 3, 20, 20, 20)\n",
      "videos (8, 200, 14, 3, 20, 20, 20)\n",
      "videos (9, 200, 14, 3, 20, 20, 20)\n",
      "videos (10, 200, 14, 3, 20, 20, 20)\n",
      "videos (11, 200, 14, 3, 20, 20, 20)\n",
      "videos (12, 200, 14, 3, 20, 20, 20)\n",
      "videos (13, 200, 14, 3, 20, 20, 20)\n",
      "videos (14, 200, 14, 3, 20, 20, 20)\n",
      "videos (15, 200, 14, 3, 20, 20, 20)\n",
      "videos (16, 200, 14, 3, 20, 20, 20)\n",
      "videos (17, 200, 14, 3, 20, 20, 20)\n",
      "videos (18, 200, 14, 3, 20, 20, 20)\n",
      "videos (19, 200, 14, 3, 20, 20, 20)\n",
      "videos (20, 200, 14, 3, 20, 20, 20)\n",
      "videos (21, 200, 14, 3, 20, 20, 20)\n",
      "videos (22, 200, 14, 3, 20, 20, 20)\n",
      "videos (23, 200, 14, 3, 20, 20, 20)\n",
      "videos (24, 200, 14, 3, 20, 20, 20)\n",
      "videos (25, 200, 14, 3, 20, 20, 20)\n",
      "videos (26, 200, 14, 3, 20, 20, 20)\n",
      "videos (27, 200, 14, 3, 20, 20, 20)\n",
      "videos (28, 200, 14, 3, 20, 20, 20)\n",
      "videos (29, 200, 14, 3, 20, 20, 20)\n",
      "videos (30, 200, 14, 3, 20, 20, 20)\n",
      "videos (31, 200, 14, 3, 20, 20, 20)\n",
      "videos (32, 200, 14, 3, 20, 20, 20)\n",
      "videos (33, 200, 14, 3, 20, 20, 20)\n",
      "videos (34, 200, 14, 3, 20, 20, 20)\n",
      "videos (35, 200, 14, 3, 20, 20, 20)\n",
      "videos (36, 200, 14, 3, 20, 20, 20)\n",
      "videos (37, 200, 14, 3, 20, 20, 20)\n",
      "videos (38, 200, 14, 3, 20, 20, 20)\n",
      "videos (39, 200, 14, 3, 20, 20, 20)\n",
      "videos (40, 200, 14, 3, 20, 20, 20)\n",
      "videos (41, 200, 14, 3, 20, 20, 20)\n",
      "videos (42, 200, 14, 3, 20, 20, 20)\n",
      "videos (43, 200, 14, 3, 20, 20, 20)\n",
      "videos (44, 200, 14, 3, 20, 20, 20)\n",
      "videos (45, 200, 14, 3, 20, 20, 20)\n",
      "videos (46, 200, 14, 3, 20, 20, 20)\n",
      "videos (47, 200, 14, 3, 20, 20, 20)\n",
      "videos (48, 200, 14, 3, 20, 20, 20)\n",
      "videos (49, 200, 14, 3, 20, 20, 20)\n",
      "videos (50, 200, 14, 3, 20, 20, 20)\n",
      "videos (51, 200, 14, 3, 20, 20, 20)\n",
      "videos (52, 200, 14, 3, 20, 20, 20)\n",
      "videos (53, 200, 14, 3, 20, 20, 20)\n",
      "videos (54, 200, 14, 3, 20, 20, 20)\n",
      "videos (55, 200, 14, 3, 20, 20, 20)\n",
      "videos (56, 200, 14, 3, 20, 20, 20)\n",
      "videos (57, 200, 14, 3, 20, 20, 20)\n",
      "videos (58, 200, 14, 3, 20, 20, 20)\n",
      "videos (59, 200, 14, 3, 20, 20, 20)\n",
      "videos (60, 200, 14, 3, 20, 20, 20)\n",
      "videos (61, 200, 14, 3, 20, 20, 20)\n",
      "videos (62, 200, 14, 3, 20, 20, 20)\n",
      "videos (63, 200, 14, 3, 20, 20, 20)\n",
      "videos (64, 200, 14, 3, 20, 20, 20)\n",
      "videos (65, 200, 14, 3, 20, 20, 20)\n",
      "videos (66, 200, 14, 3, 20, 20, 20)\n",
      "videos (67, 200, 14, 3, 20, 20, 20)\n",
      "videos (68, 200, 14, 3, 20, 20, 20)\n",
      "videos (69, 200, 14, 3, 20, 20, 20)\n",
      "videos (70, 200, 14, 3, 20, 20, 20)\n",
      "videos (71, 200, 14, 3, 20, 20, 20)\n",
      "videos (72, 200, 14, 3, 20, 20, 20)\n",
      "videos (73, 200, 14, 3, 20, 20, 20)\n",
      "videos (74, 200, 14, 3, 20, 20, 20)\n",
      "videos (75, 200, 14, 3, 20, 20, 20)\n",
      "videos (76, 200, 14, 3, 20, 20, 20)\n",
      "videos (77, 200, 14, 3, 20, 20, 20)\n",
      "videos (78, 200, 14, 3, 20, 20, 20)\n",
      "videos (79, 200, 14, 3, 20, 20, 20)\n",
      "videos (80, 200, 14, 3, 20, 20, 20)\n",
      "videos (81, 200, 14, 3, 20, 20, 20)\n",
      "videos (82, 200, 14, 3, 20, 20, 20)\n",
      "videos (83, 200, 14, 3, 20, 20, 20)\n",
      "videos (84, 200, 14, 3, 20, 20, 20)\n",
      "videos (85, 200, 14, 3, 20, 20, 20)\n",
      "videos (86, 200, 14, 3, 20, 20, 20)\n",
      "videos (87, 200, 14, 3, 20, 20, 20)\n",
      "videos (88, 200, 14, 3, 20, 20, 20)\n",
      "videos (89, 200, 14, 3, 20, 20, 20)\n",
      "videos (90, 200, 14, 3, 20, 20, 20)\n",
      "videos (91, 200, 14, 3, 20, 20, 20)\n",
      "videos (92, 200, 14, 3, 20, 20, 20)\n",
      "videos (93, 200, 14, 3, 20, 20, 20)\n",
      "videos (94, 200, 14, 3, 20, 20, 20)\n",
      "videos (95, 200, 14, 3, 20, 20, 20)\n",
      "videos (96, 200, 14, 3, 20, 20, 20)\n",
      "videos (97, 200, 14, 3, 20, 20, 20)\n",
      "videos (98, 200, 14, 3, 20, 20, 20)\n",
      "videos (99, 200, 14, 3, 20, 20, 20)\n",
      "videos (100, 200, 14, 3, 20, 20, 20)\n"
     ]
    }
   ],
   "source": [
    "test_seen_videos = generate_video(total_maz, test_seen_path, True, 0)\n",
    "video_num = test_seen_videos.shape[0] * test_seen_videos.shape[1]\n",
    "video_len = test_seen_videos.shape[2]\n",
    "test_seen_videos = test_seen_videos/255.0\n",
    "np.save(op.join(arr_dir, \"test_seen_video.npy\"), test_seen_videos)"
   ]
  },
  {
   "cell_type": "code",
   "execution_count": 7,
   "id": "c7345c96",
   "metadata": {},
   "outputs": [
    {
     "name": "stdout",
     "output_type": "stream",
     "text": [
      "(2, 20000, 2)\n"
     ]
    }
   ],
   "source": [
    "test_seen_videos = np.reshape(test_seen_videos, (-1, 3, test_seen_videos.shape[-3], test_seen_videos.shape[-2], test_seen_videos.shape[-1])).astype(np.float32)\n",
    "\n",
    "dims = np.array([3, test_seen_videos.shape[-3], test_seen_videos.shape[-2], test_seen_videos.shape[-1]])\n",
    "dims = np.expand_dims(dims, axis=0)\n",
    "# print (dims)\n",
    "input_seq = 1\n",
    "input_start = np.arange(0, video_num*video_len, video_len).astype(np.int32)\n",
    "output_start = np.arange(input_seq, video_num*video_len, video_len).astype(np.int32)\n",
    "# print (input_start.shape,input_start)\n",
    "# print (output_start.shape, output_start)\n",
    "# print (np.ones(video_num).astype(np.int32).shape)\n",
    "input_start = np.stack((input_start, input_seq * np.ones(video_num).astype(np.int32)))\n",
    "output_start = np.stack((output_start, (video_len-input_seq) * np.ones(video_num).astype(np.int32)))\n",
    "input_start = np.transpose(input_start)\n",
    "output_start = np.transpose(output_start)\n",
    "# print (input_start.shape,input_start)\n",
    "# print (output_start.shape, output_start)\n",
    "clips = np.stack((input_start, output_start))\n",
    "print (clips.shape)\n",
    "np.savez(op.join(arr_dir, \"normalized_test_seen_video.npz\"), dims=dims, clips=clips, input_raw_data=test_seen_videos)\n"
   ]
  },
  {
   "cell_type": "code",
   "execution_count": 8,
   "id": "a216d725",
   "metadata": {},
   "outputs": [
    {
     "name": "stdout",
     "output_type": "stream",
     "text": [
      "test_unseen_path (8000, 14, 3)\n",
      "test_unseen_path (20, 400, 14, 3)\n"
     ]
    }
   ],
   "source": [
    "test_unseen_file = op.join(arr_dir, \"test_unseen_path.npy\")\n",
    "test_unseen_path = np.load(test_unseen_file)\n",
    "print ('test_unseen_path', test_unseen_path.shape)\n",
    "\n",
    "test_unseen_path = np.reshape(test_unseen_path, (20, -1, test_unseen_path.shape[1], test_unseen_path.shape[2]))\n",
    "print ('test_unseen_path', test_unseen_path.shape)"
   ]
  },
  {
   "cell_type": "code",
   "execution_count": 9,
   "id": "4dd3492a",
   "metadata": {},
   "outputs": [
    {
     "name": "stdout",
     "output_type": "stream",
     "text": [
      "videos (1, 400, 14, 3, 20, 20, 20)\n",
      "videos (2, 400, 14, 3, 20, 20, 20)\n",
      "videos (3, 400, 14, 3, 20, 20, 20)\n",
      "videos (4, 400, 14, 3, 20, 20, 20)\n",
      "videos (5, 400, 14, 3, 20, 20, 20)\n",
      "videos (6, 400, 14, 3, 20, 20, 20)\n",
      "videos (7, 400, 14, 3, 20, 20, 20)\n",
      "videos (8, 400, 14, 3, 20, 20, 20)\n",
      "videos (9, 400, 14, 3, 20, 20, 20)\n",
      "videos (10, 400, 14, 3, 20, 20, 20)\n",
      "videos (11, 400, 14, 3, 20, 20, 20)\n",
      "videos (12, 400, 14, 3, 20, 20, 20)\n",
      "videos (13, 400, 14, 3, 20, 20, 20)\n",
      "videos (14, 400, 14, 3, 20, 20, 20)\n",
      "videos (15, 400, 14, 3, 20, 20, 20)\n",
      "videos (16, 400, 14, 3, 20, 20, 20)\n",
      "videos (17, 400, 14, 3, 20, 20, 20)\n",
      "videos (18, 400, 14, 3, 20, 20, 20)\n",
      "videos (19, 400, 14, 3, 20, 20, 20)\n",
      "videos (20, 400, 14, 3, 20, 20, 20)\n"
     ]
    }
   ],
   "source": [
    "test_unseen_videos = generate_video(total_maz, test_unseen_path, False, 0)\n",
    "video_num = test_unseen_videos.shape[0] * test_unseen_videos.shape[1]\n",
    "video_len = test_unseen_videos.shape[2]\n",
    "test_unseen_videos = test_unseen_videos/255.0\n",
    "np.save(op.join(arr_dir, \"test_unseen_video.npy\"), test_unseen_videos)"
   ]
  },
  {
   "cell_type": "code",
   "execution_count": 10,
   "id": "271ae3b8",
   "metadata": {},
   "outputs": [
    {
     "name": "stdout",
     "output_type": "stream",
     "text": [
      "(2, 8000, 2)\n"
     ]
    }
   ],
   "source": [
    "test_unseen_videos = np.reshape(test_unseen_videos, (-1, 3, test_unseen_videos.shape[-3], test_unseen_videos.shape[-2], test_unseen_videos.shape[-1])).astype(np.float32)\n",
    "\n",
    "dims = np.array([3, test_unseen_videos.shape[-3], test_unseen_videos.shape[-2], test_unseen_videos.shape[-1]])\n",
    "dims = np.expand_dims(dims, axis=0)\n",
    "# print (dims)\n",
    "input_seq = 1\n",
    "input_start = np.arange(0, video_num*video_len, video_len).astype(np.int32)\n",
    "output_start = np.arange(input_seq, video_num*video_len, video_len).astype(np.int32)\n",
    "# print (input_start.shape,input_start)\n",
    "# print (output_start.shape, output_start)\n",
    "# print (np.ones(video_num).astype(np.int32).shape)\n",
    "input_start = np.stack((input_start, input_seq * np.ones(video_num).astype(np.int32)))\n",
    "output_start = np.stack((output_start, (video_len-input_seq) * np.ones(video_num).astype(np.int32)))\n",
    "input_start = np.transpose(input_start)\n",
    "output_start = np.transpose(output_start)\n",
    "# print (input_start.shape,input_start)\n",
    "# print (output_start.shape, output_start)\n",
    "clips = np.stack((input_start, output_start))\n",
    "print (clips.shape)\n",
    "np.savez(op.join(arr_dir, \"normalized_test_unseen_video.npz\"), dims=dims, clips=clips, input_raw_data=test_unseen_videos)\n"
   ]
  },
  {
   "cell_type": "code",
   "execution_count": 11,
   "id": "4eb1efb9",
   "metadata": {},
   "outputs": [
    {
     "name": "stdout",
     "output_type": "stream",
     "text": [
      "[[[     0      1]\n",
      "  [    14      1]\n",
      "  [    28      1]\n",
      "  ...\n",
      "  [111958      1]\n",
      "  [111972      1]\n",
      "  [111986      1]]\n",
      "\n",
      " [[     1     13]\n",
      "  [    15     13]\n",
      "  [    29     13]\n",
      "  ...\n",
      "  [111959     13]\n",
      "  [111973     13]\n",
      "  [111987     13]]]\n"
     ]
    }
   ],
   "source": [
    "print (clips)"
   ]
  },
  {
   "cell_type": "code",
   "execution_count": null,
   "id": "1178e43d",
   "metadata": {},
   "outputs": [],
   "source": []
  }
 ],
 "metadata": {
  "kernelspec": {
   "display_name": "Python 3 (ipykernel)",
   "language": "python",
   "name": "python3"
  },
  "language_info": {
   "codemirror_mode": {
    "name": "ipython",
    "version": 3
   },
   "file_extension": ".py",
   "mimetype": "text/x-python",
   "name": "python",
   "nbconvert_exporter": "python",
   "pygments_lexer": "ipython3",
   "version": "3.8.10"
  }
 },
 "nbformat": 4,
 "nbformat_minor": 5
}
