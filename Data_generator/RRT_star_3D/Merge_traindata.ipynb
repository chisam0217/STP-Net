{
 "cells": [
  {
   "cell_type": "code",
   "execution_count": 1,
   "id": "d625117c",
   "metadata": {},
   "outputs": [],
   "source": [
    "import numpy as np\n",
    "import os.path as op\n",
    "arr_dir = \"../../Data/3D_map/Map_array\""
   ]
  },
  {
   "cell_type": "code",
   "execution_count": 2,
   "id": "847f174d",
   "metadata": {},
   "outputs": [
    {
     "name": "stdout",
     "output_type": "stream",
     "text": [
      "video1 (2, 40000, 2)\n",
      "video2 (2, 40000, 2)\n",
      "video1 (600000, 3, 20, 20, 20)\n",
      "video2 (600000, 3, 20, 20, 20)\n"
     ]
    }
   ],
   "source": [
    "video1 = np.load(op.join(arr_dir, \"normalized_train_video1.npz\"))\n",
    "video2 = np.load(op.join(arr_dir, \"normalized_train_video2.npz\"))\n",
    "# video3 = np.load(op.join(arr_dir, \"normalized_train_video3.npz\"))\n",
    "print ('video1', video1['clips'].shape)\n",
    "print ('video2', video2['clips'].shape)\n",
    "# print ('video3', video3['clips'].shape)\n",
    "print ('video1', video1['input_raw_data'].shape)\n",
    "print ('video2', video2['input_raw_data'].shape)\n",
    "# print ('video3', video3['input_raw_data'].shape)"
   ]
  },
  {
   "cell_type": "code",
   "execution_count": 3,
   "id": "47a4df68",
   "metadata": {
    "scrolled": true
   },
   "outputs": [],
   "source": [
    "vi1 = video1['input_raw_data']\n",
    "vi2 = video2['input_raw_data']\n",
    "# vi3 = video3['input_raw_data']\n",
    "\n",
    "# vi1 = np.rint(vi1).astype(np.int8)\n",
    "# vi2 = np.rint(vi2).astype(np.int8)\n",
    "# vi3 = np.rint(vi3).astype(np.int8)\n",
    "# print (vi1.dtype)"
   ]
  },
  {
   "cell_type": "code",
   "execution_count": 4,
   "id": "8c7ff357",
   "metadata": {},
   "outputs": [],
   "source": [
    "np.save(op.join(arr_dir, \"vi1.npy\"), vi1)\n",
    "np.save(op.join(arr_dir, \"vi2.npy\"), vi2)\n",
    "# np.save(op.join(arr_dir, \"vi3.npy\"), vi3)"
   ]
  },
  {
   "cell_type": "code",
   "execution_count": 5,
   "id": "aad074ea",
   "metadata": {},
   "outputs": [],
   "source": [
    "np.save(op.join(arr_dir, \"clip1.npy\"), video1['clips'])\n",
    "np.save(op.join(arr_dir, \"clip2.npy\"), video2['clips'])\n",
    "# np.save(op.join(arr_dir, \"clip3.npy\"), video3['clips'])"
   ]
  },
  {
   "cell_type": "code",
   "execution_count": 6,
   "id": "a98407b9",
   "metadata": {},
   "outputs": [
    {
     "data": {
      "text/plain": [
       "'The Load and concatenate Module'"
      ]
     },
     "execution_count": 6,
     "metadata": {},
     "output_type": "execute_result"
    }
   ],
   "source": [
    "\"\"\"The Load and concatenate Module\"\"\""
   ]
  },
  {
   "cell_type": "code",
   "execution_count": 7,
   "id": "bc922618",
   "metadata": {},
   "outputs": [],
   "source": [
    "vi1 = np.load(op.join(arr_dir, \"vi1.npy\"))\n",
    "vi2 = np.load(op.join(arr_dir, \"vi2.npy\"))\n",
    "# vi3 = np.load(op.join(arr_dir, \"vi3.npy\"))"
   ]
  },
  {
   "cell_type": "code",
   "execution_count": 8,
   "id": "25418197",
   "metadata": {},
   "outputs": [
    {
     "name": "stdout",
     "output_type": "stream",
     "text": [
      "(1200000, 3, 20, 20, 20)\n"
     ]
    }
   ],
   "source": [
    "vi1 = np.concatenate((vi1, vi2))\n",
    "# vi1 = np.concatenate((vi1, vi3))\n",
    "print (vi1.shape) "
   ]
  },
  {
   "cell_type": "code",
   "execution_count": 9,
   "id": "a075969c",
   "metadata": {},
   "outputs": [
    {
     "name": "stdout",
     "output_type": "stream",
     "text": [
      "clip1 (2, 40000, 2)\n",
      "clip2 (2, 40000, 2)\n"
     ]
    }
   ],
   "source": [
    "clip1 = np.load(op.join(arr_dir, \"clip1.npy\"))\n",
    "clip2 = np.load(op.join(arr_dir, \"clip2.npy\"))\n",
    "# clip3 = np.load(op.join(arr_dir, \"clip3.npy\"))\n",
    "print ('clip1', clip1.shape) \n",
    "print ('clip2', clip2.shape) \n",
    "# print ('clip3', clip3.shape) "
   ]
  },
  {
   "cell_type": "code",
   "execution_count": 14,
   "id": "c8ab8512",
   "metadata": {},
   "outputs": [
    {
     "name": "stdout",
     "output_type": "stream",
     "text": [
      "[[[ 600000       7]\n",
      "  [ 600015       7]\n",
      "  [ 600030       7]\n",
      "  ...\n",
      "  [1199955       7]\n",
      "  [1199970       7]\n",
      "  [1199985       7]]\n",
      "\n",
      " [[ 600007       8]\n",
      "  [ 600022       8]\n",
      "  [ 600037       8]\n",
      "  ...\n",
      "  [1199962       8]\n",
      "  [1199977       8]\n",
      "  [1199992       8]]]\n"
     ]
    }
   ],
   "source": [
    "print (clip2)"
   ]
  },
  {
   "cell_type": "code",
   "execution_count": 10,
   "id": "374aaf6e",
   "metadata": {},
   "outputs": [
    {
     "name": "stdout",
     "output_type": "stream",
     "text": [
      "clip (2, 80000, 2)\n"
     ]
    }
   ],
   "source": [
    "clip1_0 = np.concatenate((clip1[0], clip2[0]))\n",
    "# clip1_0 = np.concatenate((clip1_0, clip3[0]))\n",
    "\n",
    "clip1_1 = np.concatenate((clip1[1], clip2[1]))\n",
    "# clip1_1 = np.concatenate((clip1_1, clip3[1]))\n",
    "clip = np.array((clip1_0, clip1_1))\n",
    "print ('clip', clip.shape)"
   ]
  },
  {
   "cell_type": "code",
   "execution_count": 11,
   "id": "ce9c4162",
   "metadata": {},
   "outputs": [],
   "source": [
    "dim = np.array([[ 3, 20, 20, 20]])"
   ]
  },
  {
   "cell_type": "code",
   "execution_count": 13,
   "id": "bd93f9b0",
   "metadata": {},
   "outputs": [],
   "source": [
    "np.savez(op.join(arr_dir, \"normalized_train_video.npz\"), dims=dim, clips=clip, input_raw_data=vi1)"
   ]
  },
  {
   "cell_type": "code",
   "execution_count": null,
   "id": "2ea1cca4",
   "metadata": {},
   "outputs": [],
   "source": [
    "# all_video[:video1['input_raw_data'].shape[0]] = video1['input_raw_data']\n",
    "# all_video[video1['input_raw_data'].shape[0]:video1['input_raw_data'].shape[0]+video2['input_raw_data'].shape[0]] = video2['input_raw_data']\n",
    "# all_video[video1['input_raw_data'].shape[0]+video2['input_raw_data'].shape[0]:] = video3['input_raw_data']"
   ]
  },
  {
   "cell_type": "code",
   "execution_count": null,
   "id": "9c61cafe",
   "metadata": {},
   "outputs": [],
   "source": []
  }
 ],
 "metadata": {
  "kernelspec": {
   "display_name": "Python 3 (ipykernel)",
   "language": "python",
   "name": "python3"
  },
  "language_info": {
   "codemirror_mode": {
    "name": "ipython",
    "version": 3
   },
   "file_extension": ".py",
   "mimetype": "text/x-python",
   "name": "python",
   "nbconvert_exporter": "python",
   "pygments_lexer": "ipython3",
   "version": "3.8.10"
  }
 },
 "nbformat": 4,
 "nbformat_minor": 5
}
