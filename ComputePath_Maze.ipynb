{
 "cells": [
  {
   "cell_type": "code",
   "execution_count": 1,
   "id": "17242adf",
   "metadata": {},
   "outputs": [
    {
     "name": "stderr",
     "output_type": "stream",
     "text": [
      "/home/xiao/anaconda3/envs/pytorch111/lib/python3.9/site-packages/tqdm/auto.py:22: TqdmWarning: IProgress not found. Please update jupyter and ipywidgets. See https://ipywidgets.readthedocs.io/en/stable/user_install.html\n",
      "  from .autonotebook import tqdm as notebook_tqdm\n"
     ]
    },
    {
     "name": "stdout",
     "output_type": "stream",
     "text": [
      "Setting up [LPIPS] perceptual loss: trunk [alex], v[0.1], spatial [off]\n",
      "Loading model from: /home/xiao/anaconda3/envs/pytorch111/lib/python3.9/site-packages/lpips/weights/v0.1/alex.pth\n"
     ]
    }
   ],
   "source": [
    "import os\n",
    "import numpy as np\n",
    "from core.data_provider import datasets_factory\n",
    "from core.models.model_factory import Model\n",
    "from core.utils import preprocess\n",
    "import core.trainer as trainer\n",
    "import math \n",
    "# export CUDA_VISIBLE_DEVICES=0\n",
    "os.environ[\"CUDA_VISIBLE_DEVICES\"]=\"0\""
   ]
  },
  {
   "cell_type": "code",
   "execution_count": 2,
   "id": "57c49ded",
   "metadata": {},
   "outputs": [],
   "source": [
    "class configs:\n",
    "    is_training = 0\n",
    "    device = \"cuda\"\n",
    "    dataset_name = \"motion\"\n",
    "    gen_frm_dir = \"results/motion_predrnn\"\n",
    "    input_length = 1\n",
    "    total_length = 12\n",
    "    img_width = 60\n",
    "    img_channel = 3\n",
    "    model_name = \"predrnn_memory_decoupling\"# \"predrnn_memory_decoupling\"\n",
    "    pretrained_model = \"checkpoints/model.ckpt-73000\"\n",
    "    num_hidden = \"128,128,128,128\"\n",
    "    filter_size = 5\n",
    "    stride = 1\n",
    "    patch_size = 4 \n",
    "    layer_norm = 0\n",
    "    lr = 0.0003\n",
    "    batch_size = 1\n",
    "    reverse_scheduled_sampling = 0\n",
    "    num_save_samples = 10\n",
    "    decouple_beta = 0.1\n",
    "    visual = False\n",
    "    visual_path = \"\""
   ]
  },
  {
   "cell_type": "code",
   "execution_count": 17,
   "id": "f7803288",
   "metadata": {},
   "outputs": [
    {
     "name": "stdout",
     "output_type": "stream",
     "text": [
      "test_maze shape (1700, 60, 60)\n",
      "test_config (1700, 4)\n"
     ]
    }
   ],
   "source": [
    "import matplotlib.pyplot as plt\n",
    "test_maze = np.load(\"Data/mazes_60_test.npy\")\n",
    "test_config = np.load(\"Data/mazes_config_test.npy\")\n",
    "print ('test_maze shape', test_maze.shape)\n",
    "print ('test_config', test_config.shape)"
   ]
  },
  {
   "cell_type": "code",
   "execution_count": 18,
   "id": "3d22a4d3",
   "metadata": {},
   "outputs": [
    {
     "data": {
      "text/plain": [
       "<matplotlib.image.AxesImage at 0x7f7ecea48400>"
      ]
     },
     "execution_count": 18,
     "metadata": {},
     "output_type": "execute_result"
    },
    {
     "data": {
      "image/png": "[encoded data removed]",
      "text/plain": [
       "<Figure size 432x288 with 1 Axes>"
      ]
     },
     "metadata": {
      "needs_background": "light"
     },
     "output_type": "display_data"
    }
   ],
   "source": [
    "plt.imshow(test_maze[0])"
   ]
  },
  {
   "cell_type": "code",
   "execution_count": 19,
   "id": "767f99aa",
   "metadata": {},
   "outputs": [
    {
     "name": "stdout",
     "output_type": "stream",
     "text": [
      "load model: checkpoints/model.ckpt-73000\n"
     ]
    }
   ],
   "source": [
    "model = Model(configs)\n",
    "model.load(configs.pretrained_model)"
   ]
  },
  {
   "cell_type": "code",
   "execution_count": 20,
   "id": "64fd591f",
   "metadata": {},
   "outputs": [],
   "source": [
    "def augmentation(img, start_x, start_y, channel=1):\n",
    "    h, w = 7, 7\n",
    "    for i in range(-3, 4):\n",
    "        for j in range(-3, 4):\n",
    "            x, y = start_x + i, start_y + j\n",
    "            if 0<=x<=(img.shape[0]-1) and 0 <=y<=(img.shape[0]-1) and img[x,y,0]<0.1:\n",
    "                img[x,y,channel] = 1.0\n",
    "    return img"
   ]
  },
  {
   "cell_type": "code",
   "execution_count": 21,
   "id": "5ebbddfd",
   "metadata": {},
   "outputs": [],
   "source": [
    "def IsInCollision(curr_x, curr_y, obs):\n",
    "    cf = False\n",
    "    for i in range(obs.shape[0]):\n",
    "#         print ('checking obstacle', i)\n",
    "        if abs(obs[i, 0] - curr_x) < obs[i,2]/2.0 and  abs(obs[i, 1] - curr_y) < obs[i,3]/2.0:\n",
    "            return True\n",
    "    return False"
   ]
  },
  {
   "cell_type": "code",
   "execution_count": 28,
   "id": "64b50253",
   "metadata": {},
   "outputs": [
    {
     "name": "stdout",
     "output_type": "stream",
     "text": [
      "Testing seen map 0\n",
      "configuration [26 39  4 14]\n",
      "path [(26, 39), (21, 34), (27, 29), (18, 28), (28, 28), (19, 28), (9, 39), (7, 25), (7, 22), (6, 14), (4, 14), '#']\n",
      "Testing seen map 1\n",
      "configuration [38 10 39 10]\n",
      "path [(38, 10), (40, 7), (39, 10), '#']\n",
      "Testing seen map 2\n",
      "configuration [29 18  9 14]\n",
      "path [(29, 18), (32, 21), (10, 22), (5, 18), (7, 16), (9, 14), '#']\n",
      "Testing seen map 3\n",
      "configuration [33 46 29 46]\n",
      "path [(33, 46), (32, 44), (29, 46), '#']\n",
      "Testing seen map 4\n",
      "configuration [14 45 19 31]\n",
      "path [(14, 45), (17, 50), (23, 48), (23, 31), (19, 31), '#']\n",
      "Testing seen map 5\n",
      "configuration [12 51 51 46]\n",
      "path [(12, 51), (17, 50), (27, 54), (46, 50), (55, 41), (55, 45), (51, 46), '#']\n",
      "Testing seen map 6\n",
      "configuration [39 24 27 34]\n",
      "path [(39, 24), (37, 25), (33, 21), (26, 31), (27, 34), '#']\n",
      "Testing seen map 7\n",
      "configuration [ 4 35 52 38]\n",
      "path [(4, 35), (8, 25), (16, 23), (28, 33), (33, 30), (39, 34), (34, 30), (45, 41), (54, 41), (52, 38), '#']\n",
      "Testing seen map 8\n",
      "configuration [54 55 53 36]\n",
      "path [(54, 55), (47, 55), (37, 51), (37, 38), (53, 37), (53, 36), '#']\n",
      "Testing seen map 9\n",
      "configuration [28 38 49 37]\n",
      "path [(28, 38), (36, 37), (37, 28), (45, 30), (46, 37), (49, 37), '#']\n",
      "Testing seen map 10\n",
      "configuration [ 6 37 44 39]\n",
      "path [(6, 37), (15, 37), (13, 26), (22, 26), (26, 25), (31, 32), (39, 31), (46, 31), (46, 30), (46, 35), (44, 39), '#']\n",
      "Testing seen map 11\n",
      "configuration [ 4 54 34 45]\n",
      "path [(4, 54), (9, 54), (15, 50), (13, 44), (35, 46), (34, 45), '#']\n",
      "Testing seen map 12\n",
      "configuration [27 12 43 28]\n",
      "path [(27, 12), (31, 18), (33, 22), (38, 24), (39, 25), (40, 29), (43, 28), '#']\n",
      "Testing seen map 13\n",
      "configuration [23 29  9 18]\n",
      "path [(23, 29), (33, 31), (42, 22), (33, 22), (26, 22), (14, 21), (10, 15), (9, 18), '#']\n",
      "Testing seen map 14\n",
      "configuration [34  9 44 24]\n",
      "path [(34, 9), (38, 13), (42, 19), (43, 20), (44, 24), '#']\n",
      "Testing seen map 15\n",
      "configuration [25 31 22 12]\n",
      "path [(25, 31), (6, 28), (6, 17), (11, 17), (14, 14), (19, 14), (22, 12), '#']\n",
      "Testing seen map 16\n",
      "configuration [22 17 27 16]\n",
      "path [(22, 17), (25, 14), (27, 16), '#']\n",
      "Testing seen map 17\n",
      "configuration [27 46  7 52]\n",
      "path [(27, 46), (20, 45), (13, 46), (13, 50), (12, 52), (7, 52), '#']\n",
      "Testing seen map 18\n",
      "configuration [55 16 30 31]\n",
      "path [(55, 16), (45, 17), (47, 21), (39, 24), (33, 23), (27, 28), (30, 31), '#']\n",
      "Testing seen map 19\n",
      "configuration [33 46 44 38]\n",
      "path [(33, 46), (32, 45), (31, 42), (33, 38), (37, 38), (45, 40), (44, 38), '#']\n",
      "Testing seen map 20\n",
      "configuration [ 7 51 23 43]\n",
      "path [(7, 51), (7, 45), (9, 46), (13, 46), (20, 45), (23, 43), '#']\n",
      "Testing seen map 21\n",
      "configuration [ 4 28 26 30]\n",
      "path [(4, 28), (13, 30), (21, 31), (26, 30), '#']\n",
      "Testing seen map 22\n",
      "configuration [45 52 41 12]\n",
      "path [(45, 52), (35, 54), (33, 46), (51, 44), (55, 32), (53, 23), (48, 21), (47, 18), (42, 13), (41, 12), '#']\n",
      "Testing seen map 23\n",
      "configuration [22 29 47  5]\n",
      "path [(22, 29), (20, 38), (20, 7), (34, 6), (38, 10), (46, 18), (49, 14), (50, 8), (47, 5), '#']\n",
      "Testing seen map 24\n",
      "configuration [23 16 22 16]\n",
      "path [(23, 16), (25, 18), (22, 16), '#']\n",
      "Testing seen map 25\n",
      "configuration [50 53  5 11]\n",
      "path [(50, 53), (40, 53), (28, 40), (31, 34), (22, 36), (22, 15), (12, 14), (7, 14), (5, 11), '#']\n",
      "Testing seen map 26\n",
      "configuration [26 44 35 45]\n",
      "path [(26, 44), (30, 44), (35, 45), '#']\n",
      "Testing seen map 27\n",
      "configuration [42  7 54 14]\n",
      "path [(42, 7), (48, 5), (55, 8), (53, 13), (54, 14), '#']\n",
      "Testing seen map 28\n",
      "configuration [11 55 47 21]\n",
      "path [(11, 55), (15, 43), (10, 37), (17, 37), (19, 36), (23, 24), (21, 22), (31, 13), (34, 16), (44, 23), (47, 21), '#']\n",
      "Testing seen map 29\n",
      "configuration [30  6 25  4]\n",
      "path [(30, 6), (27, 6), (25, 4), '#']\n",
      "Testing seen map 30\n",
      "configuration [34 13 13 25]\n",
      "path [(34, 13), (23, 14), (21, 18), (19, 23), (15, 23), (13, 25), '#']\n",
      "Testing seen map 31\n",
      "configuration [ 6 55 49 32]\n",
      "path [(6, 55), (5, 55), (37, 53), (38, 52), (41, 45), (46, 46), (46, 41), (44, 31), (49, 32), '#']\n",
      "Testing seen map 32\n",
      "configuration [ 4 54 31 28]\n",
      "path [(4, 54), (7, 37), (7, 24), (10, 21), (14, 26), (18, 30), (29, 29), (31, 28), '#']\n",
      "Testing seen map 33\n",
      "configuration [55 50 54 28]\n",
      "path [(55, 50), (55, 44), (55, 34), (53, 31), (54, 28), '#']\n",
      "Testing seen map 34\n",
      "configuration [22 13 41 21]\n",
      "path [(22, 13), (29, 14), (35, 16), (39, 22), (41, 21), '#']\n",
      "Testing seen map 35\n",
      "configuration [53 44 37 39]\n",
      "path [(53, 44), (54, 37), (53, 37), (47, 31), (49, 28), (44, 41), (44, 23), (39, 21), (39, 30), (35, 39), (37, 39), '#']\n",
      "Testing seen map 36\n",
      "configuration [23 52 14 44]\n",
      "path [(23, 52), (5, 52), (8, 43), (11, 42), (14, 44), '#']\n",
      "Testing seen map 37\n",
      "configuration [53 20 20 20]\n",
      "path [(53, 20), (51, 30), (45, 26), (41, 18), (39, 22), (28, 22), (18, 20), (20, 20), '#']\n",
      "Testing seen map 38\n",
      "configuration [ 9 15 35 50]\n",
      "path [(9, 15), (18, 18), (15, 19), (17, 23), (22, 24), (39, 22), (33, 22), (37, 30), (37, 48), (35, 50), '#']\n",
      "Testing seen map 39\n",
      "configuration [26 30 31 37]\n",
      "path [(26, 30), (22, 29), (22, 33), (20, 35), (28, 45), (30, 39), (31, 37), '#']\n",
      "Testing seen map 40\n",
      "configuration [52 41 52 39]\n",
      "path [(52, 41), (51, 40), (52, 39), '#']\n",
      "Testing seen map 41\n",
      "configuration [17 22  8 18]\n",
      "path [(17, 22), (14, 27), (11, 15), (8, 18), '#']\n",
      "Testing seen map 42\n",
      "configuration [ 9 20 29 45]\n",
      "path [(9, 20), (9, 23), (13, 24), (17, 30), (22, 27), (22, 34), (18, 42), (23, 47), (27, 46), (29, 45), '#']\n",
      "Testing seen map 43\n",
      "configuration [46 51 28 18]\n",
      "path [(46, 51), (36, 46), (28, 44), (21, 42), (22, 26), (22, 22), (26, 20), (28, 18), '#']\n",
      "Testing seen map 44\n",
      "configuration [37 33  5 51]\n",
      "path [(37, 33), (41, 31), (26, 22), (24, 21), (23, 30), (14, 37), (11, 43), (4, 44), (4, 54), (5, 51), '#']\n",
      "Testing seen map 45\n",
      "configuration [43  7 54 36]\n",
      "path [(43, 7), (30, 6), (30, 10), (30, 22), (53, 22), (50, 23), (52, 20), (53, 33), (54, 36), '#']\n",
      "Testing seen map 46\n",
      "configuration [47 35  8 54]\n",
      "path [(47, 35), (48, 44), (37, 46), (34, 37), (25, 38), (23, 52), (9, 53), (8, 54), '#']\n",
      "Testing seen map 47\n",
      "configuration [52 31 10 47]\n",
      "path [(52, 31), (45, 30), (44, 45), (32, 43), (32, 32), (22, 51), (19, 46), (10, 44), (10, 47), '#']\n",
      "Testing seen map 48\n",
      "configuration [31 17 25 36]\n",
      "path [(31, 17), (28, 27), (33, 30), (54, 29), (55, 33), (49, 39), (34, 39), (35, 37), (23, 37), (25, 36), '#']\n",
      "Testing seen map 49\n",
      "configuration [55 35 46  5]\n",
      "path [(55, 35), (51, 30), (52, 28), (31, 28), (30, 21), (38, 21), (37, 13), (45, 12), (44, 5), (46, 5), '#']\n",
      "Testing seen map 50\n",
      "configuration [22 18 12 31]\n",
      "path [(22, 18), (18, 22), (15, 23), (13, 30), (12, 31), '#']\n",
      "Testing seen map 51\n",
      "configuration [44 37 40 41]\n",
      "path [(44, 37), (42, 39), (40, 41), '#']\n",
      "Testing seen map 52\n",
      "configuration [53 46 16 44]\n",
      "path [(53, 46), (45, 45), (42, 53), (38, 53), (17, 54), (12, 52), (12, 41), (18, 41), (16, 44), '#']\n",
      "Testing seen map 53\n",
      "configuration [32 47 36  8]\n",
      "path [(32, 47), (32, 46), (30, 16), (28, 36), (28, 8), (28, 28), (29, 11), (27, 15), (39, 11), (36, 8), '#']\n",
      "Testing seen map 54\n",
      "configuration [54 47 23 55]\n",
      "path [(54, 47), (54, 42), (50, 38), (45, 38), (42, 34), (38, 44), (33, 46), (29, 52), (23, 54), (23, 55), '#']\n",
      "Testing seen map 55\n",
      "configuration [14 10 38  7]\n",
      "path [(14, 10), (18, 5), (29, 6), (34, 6), (38, 7), '#']\n",
      "Testing seen map 56\n",
      "configuration [39  5 17  5]\n",
      "path [(39, 5), (37, 12), (29, 14), (27, 10), (20, 5), (17, 5), '#']\n",
      "Testing seen map 57\n",
      "configuration [10 14 47 16]\n",
      "path [(10, 14), (14, 10), (15, 8), (25, 6), (39, 7), (46, 14), (47, 16), '#']\n",
      "Testing seen map 58\n",
      "configuration [49 16 47 30]\n",
      "path [(49, 16), (47, 20), (47, 26), (47, 30), '#']\n",
      "Testing seen map 59\n",
      "configuration [34  6 33 55]\n",
      "path [(34, 6), (50, 5), (55, 10), (55, 16), (50, 23), (45, 25), (46, 30), (45, 38), (46, 54), (33, 55), (33, 55), '#']\n",
      "Testing seen map 60\n",
      "configuration [26  7 45 29]\n",
      "path [(26, 7), (39, 6), (44, 8), (51, 6), (54, 12), (53, 20), (48, 21), (47, 26), (45, 29), '#']\n",
      "Testing seen map 61\n",
      "configuration [37 54  4 50]\n",
      "path [(37, 54), (24, 52), (11, 54), (6, 52), (4, 50), '#']\n",
      "Testing seen map 62\n",
      "configuration [46 39  7 44]\n",
      "path [(46, 39), (41, 37), (41, 36), (40, 36), (38, 34), (38, 33), (32, 28), (22, 33), (21, 34), (6, 40), (7, 44), '#']\n",
      "Testing seen map 63\n",
      "configuration [23 47 39 38]\n",
      "path [(23, 47), (27, 51), (42, 41), (39, 38), '#']\n",
      "Testing seen map 64\n",
      "configuration [47 39 11 52]\n"
     ]
    },
    {
     "name": "stdout",
     "output_type": "stream",
     "text": [
      "path [(47, 39), (30, 37), (30, 42), (26, 47), (9, 48), (11, 52), '#']\n",
      "Testing seen map 65\n",
      "configuration [44 16 42 45]\n",
      "path [(44, 16), (49, 21), (53, 21), (54, 45), (55, 34), (53, 50), (54, 47), (45, 48), (42, 45), '#']\n",
      "Testing seen map 66\n",
      "configuration [54 27 27 21]\n",
      "path [(54, 27), (55, 34), (50, 39), (40, 36), (37, 33), (36, 23), (31, 22), (27, 21), '#']\n",
      "Testing seen map 67\n",
      "configuration [ 4 54 27 26]\n"
     ]
    },
    {
     "ename": "KeyboardInterrupt",
     "evalue": "",
     "output_type": "error",
     "traceback": [
      "\u001b[0;31m---------------------------------------------------------------------------\u001b[0m",
      "\u001b[0;31mKeyboardInterrupt\u001b[0m                         Traceback (most recent call last)",
      "Input \u001b[0;32mIn [28]\u001b[0m, in \u001b[0;36m<cell line: 14>\u001b[0;34m()\u001b[0m\n\u001b[1;32m     49\u001b[0m     no_frame \u001b[38;5;241m=\u001b[39m no_step\n\u001b[1;32m     51\u001b[0m test_dat \u001b[38;5;241m=\u001b[39m preprocess\u001b[38;5;241m.\u001b[39mreshape_patch(video, configs\u001b[38;5;241m.\u001b[39mpatch_size)          \n\u001b[0;32m---> 52\u001b[0m predicted_frame \u001b[38;5;241m=\u001b[39m \u001b[43mmodel\u001b[49m\u001b[38;5;241;43m.\u001b[39;49m\u001b[43mtest\u001b[49m\u001b[43m(\u001b[49m\u001b[43mtest_dat\u001b[49m\u001b[43m,\u001b[49m\u001b[43m \u001b[49m\u001b[43mreal_input_flag\u001b[49m\u001b[43m)\u001b[49m        \n\u001b[1;32m     53\u001b[0m predicted_frame \u001b[38;5;241m=\u001b[39m preprocess\u001b[38;5;241m.\u001b[39mreshape_patch_back(predicted_frame, configs\u001b[38;5;241m.\u001b[39mpatch_size)\n\u001b[1;32m     55\u001b[0m predicted_pos \u001b[38;5;241m=\u001b[39m predicted_frame[\u001b[38;5;241m0\u001b[39m,no_frame,:,:,\u001b[38;5;241m1\u001b[39m]\n",
      "File \u001b[0;32m~/STP-Net/core/models/model_factory.py:49\u001b[0m, in \u001b[0;36mModel.test\u001b[0;34m(self, frames, mask)\u001b[0m\n\u001b[1;32m     47\u001b[0m frames_tensor \u001b[38;5;241m=\u001b[39m torch\u001b[38;5;241m.\u001b[39mFloatTensor(frames)\u001b[38;5;241m.\u001b[39mto(\u001b[38;5;28mself\u001b[39m\u001b[38;5;241m.\u001b[39mconfigs\u001b[38;5;241m.\u001b[39mdevice)\n\u001b[1;32m     48\u001b[0m mask_tensor \u001b[38;5;241m=\u001b[39m torch\u001b[38;5;241m.\u001b[39mFloatTensor(mask)\u001b[38;5;241m.\u001b[39mto(\u001b[38;5;28mself\u001b[39m\u001b[38;5;241m.\u001b[39mconfigs\u001b[38;5;241m.\u001b[39mdevice)\n\u001b[0;32m---> 49\u001b[0m next_frames, _ \u001b[38;5;241m=\u001b[39m \u001b[38;5;28;43mself\u001b[39;49m\u001b[38;5;241;43m.\u001b[39;49m\u001b[43mnetwork\u001b[49m\u001b[43m(\u001b[49m\u001b[43mframes_tensor\u001b[49m\u001b[43m,\u001b[49m\u001b[43m \u001b[49m\u001b[43mmask_tensor\u001b[49m\u001b[43m)\u001b[49m\n\u001b[1;32m     50\u001b[0m \u001b[38;5;28;01mreturn\u001b[39;00m next_frames\u001b[38;5;241m.\u001b[39mdetach()\u001b[38;5;241m.\u001b[39mcpu()\u001b[38;5;241m.\u001b[39mnumpy()\n",
      "File \u001b[0;32m~/anaconda3/envs/pytorch111/lib/python3.9/site-packages/torch/nn/modules/module.py:1110\u001b[0m, in \u001b[0;36mModule._call_impl\u001b[0;34m(self, *input, **kwargs)\u001b[0m\n\u001b[1;32m   1106\u001b[0m \u001b[38;5;66;03m# If we don't have any hooks, we want to skip the rest of the logic in\u001b[39;00m\n\u001b[1;32m   1107\u001b[0m \u001b[38;5;66;03m# this function, and just call forward.\u001b[39;00m\n\u001b[1;32m   1108\u001b[0m \u001b[38;5;28;01mif\u001b[39;00m \u001b[38;5;129;01mnot\u001b[39;00m (\u001b[38;5;28mself\u001b[39m\u001b[38;5;241m.\u001b[39m_backward_hooks \u001b[38;5;129;01mor\u001b[39;00m \u001b[38;5;28mself\u001b[39m\u001b[38;5;241m.\u001b[39m_forward_hooks \u001b[38;5;129;01mor\u001b[39;00m \u001b[38;5;28mself\u001b[39m\u001b[38;5;241m.\u001b[39m_forward_pre_hooks \u001b[38;5;129;01mor\u001b[39;00m _global_backward_hooks\n\u001b[1;32m   1109\u001b[0m         \u001b[38;5;129;01mor\u001b[39;00m _global_forward_hooks \u001b[38;5;129;01mor\u001b[39;00m _global_forward_pre_hooks):\n\u001b[0;32m-> 1110\u001b[0m     \u001b[38;5;28;01mreturn\u001b[39;00m \u001b[43mforward_call\u001b[49m\u001b[43m(\u001b[49m\u001b[38;5;241;43m*\u001b[39;49m\u001b[38;5;28;43minput\u001b[39;49m\u001b[43m,\u001b[49m\u001b[43m \u001b[49m\u001b[38;5;241;43m*\u001b[39;49m\u001b[38;5;241;43m*\u001b[39;49m\u001b[43mkwargs\u001b[49m\u001b[43m)\u001b[49m\n\u001b[1;32m   1111\u001b[0m \u001b[38;5;66;03m# Do not call functions when jit is used\u001b[39;00m\n\u001b[1;32m   1112\u001b[0m full_backward_hooks, non_full_backward_hooks \u001b[38;5;241m=\u001b[39m [], []\n",
      "File \u001b[0;32m~/STP-Net/core/models/predrnn_memory_decoupling.py:93\u001b[0m, in \u001b[0;36mRNN.forward\u001b[0;34m(self, frames_tensor, mask_true)\u001b[0m\n\u001b[1;32m     91\u001b[0m \u001b[38;5;28;01mfor\u001b[39;00m i \u001b[38;5;129;01min\u001b[39;00m \u001b[38;5;28mrange\u001b[39m(\u001b[38;5;241m1\u001b[39m, \u001b[38;5;28mself\u001b[39m\u001b[38;5;241m.\u001b[39mnum_layers):\n\u001b[1;32m     92\u001b[0m     h_t[i], c_t[i], memory, delta_c, delta_m \u001b[38;5;241m=\u001b[39m \u001b[38;5;28mself\u001b[39m\u001b[38;5;241m.\u001b[39mcell_list[i](h_t[i \u001b[38;5;241m-\u001b[39m \u001b[38;5;241m1\u001b[39m], h_t[i], c_t[i], memory)\n\u001b[0;32m---> 93\u001b[0m     delta_c_list[i] \u001b[38;5;241m=\u001b[39m \u001b[43mF\u001b[49m\u001b[38;5;241;43m.\u001b[39;49m\u001b[43mnormalize\u001b[49m\u001b[43m(\u001b[49m\u001b[38;5;28;43mself\u001b[39;49m\u001b[38;5;241;43m.\u001b[39;49m\u001b[43madapter\u001b[49m\u001b[43m(\u001b[49m\u001b[43mdelta_c\u001b[49m\u001b[43m)\u001b[49m\u001b[38;5;241;43m.\u001b[39;49m\u001b[43mview\u001b[49m\u001b[43m(\u001b[49m\u001b[43mdelta_c\u001b[49m\u001b[38;5;241;43m.\u001b[39;49m\u001b[43mshape\u001b[49m\u001b[43m[\u001b[49m\u001b[38;5;241;43m0\u001b[39;49m\u001b[43m]\u001b[49m\u001b[43m,\u001b[49m\u001b[43m \u001b[49m\u001b[43mdelta_c\u001b[49m\u001b[38;5;241;43m.\u001b[39;49m\u001b[43mshape\u001b[49m\u001b[43m[\u001b[49m\u001b[38;5;241;43m1\u001b[39;49m\u001b[43m]\u001b[49m\u001b[43m,\u001b[49m\u001b[43m \u001b[49m\u001b[38;5;241;43m-\u001b[39;49m\u001b[38;5;241;43m1\u001b[39;49m\u001b[43m)\u001b[49m\u001b[43m,\u001b[49m\u001b[43m \u001b[49m\u001b[43mdim\u001b[49m\u001b[38;5;241;43m=\u001b[39;49m\u001b[38;5;241;43m2\u001b[39;49m\u001b[43m)\u001b[49m\n\u001b[1;32m     94\u001b[0m     delta_m_list[i] \u001b[38;5;241m=\u001b[39m F\u001b[38;5;241m.\u001b[39mnormalize(\u001b[38;5;28mself\u001b[39m\u001b[38;5;241m.\u001b[39madapter(delta_m)\u001b[38;5;241m.\u001b[39mview(delta_m\u001b[38;5;241m.\u001b[39mshape[\u001b[38;5;241m0\u001b[39m], delta_m\u001b[38;5;241m.\u001b[39mshape[\u001b[38;5;241m1\u001b[39m], \u001b[38;5;241m-\u001b[39m\u001b[38;5;241m1\u001b[39m), dim\u001b[38;5;241m=\u001b[39m\u001b[38;5;241m2\u001b[39m)\n\u001b[1;32m     95\u001b[0m     \u001b[38;5;28;01mif\u001b[39;00m \u001b[38;5;28mself\u001b[39m\u001b[38;5;241m.\u001b[39mvisual:\n",
      "File \u001b[0;32m~/anaconda3/envs/pytorch111/lib/python3.9/site-packages/torch/nn/functional.py:4637\u001b[0m, in \u001b[0;36mnormalize\u001b[0;34m(input, p, dim, eps, out)\u001b[0m\n\u001b[1;32m   4635\u001b[0m     \u001b[38;5;28;01mreturn\u001b[39;00m handle_torch_function(normalize, (\u001b[38;5;28minput\u001b[39m, out), \u001b[38;5;28minput\u001b[39m, p\u001b[38;5;241m=\u001b[39mp, dim\u001b[38;5;241m=\u001b[39mdim, eps\u001b[38;5;241m=\u001b[39meps, out\u001b[38;5;241m=\u001b[39mout)\n\u001b[1;32m   4636\u001b[0m \u001b[38;5;28;01mif\u001b[39;00m out \u001b[38;5;129;01mis\u001b[39;00m \u001b[38;5;28;01mNone\u001b[39;00m:\n\u001b[0;32m-> 4637\u001b[0m     denom \u001b[38;5;241m=\u001b[39m \u001b[38;5;28;43minput\u001b[39;49m\u001b[38;5;241;43m.\u001b[39;49m\u001b[43mnorm\u001b[49m\u001b[43m(\u001b[49m\u001b[43mp\u001b[49m\u001b[43m,\u001b[49m\u001b[43m \u001b[49m\u001b[43mdim\u001b[49m\u001b[43m,\u001b[49m\u001b[43m \u001b[49m\u001b[43mkeepdim\u001b[49m\u001b[38;5;241;43m=\u001b[39;49m\u001b[38;5;28;43;01mTrue\u001b[39;49;00m\u001b[43m)\u001b[49m\u001b[38;5;241;43m.\u001b[39;49m\u001b[43mclamp_min\u001b[49m\u001b[43m(\u001b[49m\u001b[43meps\u001b[49m\u001b[43m)\u001b[49m\u001b[38;5;241;43m.\u001b[39;49m\u001b[43mexpand_as\u001b[49m\u001b[43m(\u001b[49m\u001b[38;5;28;43minput\u001b[39;49m\u001b[43m)\u001b[49m\n\u001b[1;32m   4638\u001b[0m     \u001b[38;5;28;01mreturn\u001b[39;00m \u001b[38;5;28minput\u001b[39m \u001b[38;5;241m/\u001b[39m denom\n\u001b[1;32m   4639\u001b[0m \u001b[38;5;28;01melse\u001b[39;00m:\n",
      "\u001b[0;31mKeyboardInterrupt\u001b[0m: "
     ]
    }
   ],
   "source": [
    "import time\n",
    "\n",
    "Threshold = 0.25\n",
    "DISCRETIZATION_STEP= 0.01\n",
    "max_itr = 20\n",
    "max_sample = 10\n",
    "success_rate = 0\n",
    "all_path = []\n",
    "all_time = 0\n",
    "\n",
    "\n",
    "for map_id in range(test_maze.shape[0]):\n",
    "    print ('Testing seen map', map_id)\n",
    "    map_path = []\n",
    "\n",
    "\n",
    "    start_x, start_y = test_config[map_id, :-2]\n",
    "    goal_x, goal_y = test_config[map_id, -2:]\n",
    "    path = [(start_x, start_y)]\n",
    "    print ('configuration', test_config[map_id])\n",
    "\n",
    "    first_frame = np.zeros((configs.img_width, configs.img_width, configs.img_channel))\n",
    "    first_frame[:,:,0] = np.copy(test_maze[map_id])\n",
    "    first_frame = augmentation(first_frame, start_x, start_y, 1)\n",
    "    first_frame = augmentation(first_frame, goal_x, goal_y, 2)\n",
    "\n",
    "\n",
    "    video = np.zeros((5,configs.total_length,configs.img_width,configs.img_width,configs.img_channel)) \n",
    "    video[0, :, :, :, 0] = first_frame[:,:,0]\n",
    "    video[0, :, :, :, 2] = first_frame[:,:,2]\n",
    "    video[0, 0, :, :, 1] = first_frame[:,:,1] #the intial state\n",
    "    configs.input_length = 1\n",
    "    real_input_flag = np.zeros(\n",
    "            (configs.batch_size,\n",
    "             configs.total_length - configs.input_length - 1,\n",
    "             configs.img_width // configs.patch_size,\n",
    "             configs.img_width // configs.patch_size,\n",
    "             configs.patch_size ** 2 * configs.img_channel))\n",
    "\n",
    "    no_step = 0\n",
    "    no_frame = 0\n",
    "    s_time = time.time()\n",
    "    while True:\n",
    "        if no_step >= configs.total_length - 2:\n",
    "            no_frame = configs.total_length - 2\n",
    "        else:\n",
    "            no_frame = no_step\n",
    "\n",
    "        test_dat = preprocess.reshape_patch(video, configs.patch_size)          \n",
    "        predicted_frame = model.test(test_dat, real_input_flag)        \n",
    "        predicted_frame = preprocess.reshape_patch_back(predicted_frame, configs.patch_size)\n",
    "\n",
    "        predicted_pos = predicted_frame[0,no_frame,:,:,1]\n",
    "        sample_pools = np.unravel_index(np.argsort(predicted_pos, axis=None)[::-1], predicted_pos.shape)\n",
    "\n",
    "        for idx in range(sample_pools[0].shape[0]):\n",
    "            next_x, next_y = sample_pools[0][idx], sample_pools[1][idx]\n",
    "            if first_frame[next_x, next_y, 0] > 0.9 or (next_x, next_y) in path:\n",
    "                continue\n",
    "            last_dir = np.sign([path[-1][0] - start_x, path[-1][1] - start_y])\n",
    "            curr_dir = np.sign([next_x - path[-1][0], next_y - path[-1][1]])\n",
    "            if np.sum(np.abs(curr_dir - last_dir)) >= 4:\n",
    "                continue\n",
    "\n",
    "            #collision detection\n",
    "            last_x, last_y = path[-1]\n",
    "            distTotal = math.sqrt((next_x - last_x)**2 + (next_y - last_y)**2)\n",
    "\n",
    "            collision_flag = False\n",
    "            if distTotal>0:\n",
    "                incrementTotal = distTotal/DISCRETIZATION_STEP\n",
    "                numSegments = int(math.floor(incrementTotal))\n",
    "                x_dist = (next_x - last_x)/numSegments\n",
    "                y_dist = (next_y - last_y)/numSegments\n",
    "\n",
    "                for pt in range(numSegments):\n",
    "                    last_x = last_x + x_dist\n",
    "                    last_y = last_y + y_dist\n",
    "                    if first_frame[int(last_x), int(last_y), 0] > 0.9:\n",
    "                        collision_flag = True\n",
    "                        break\n",
    "\n",
    "            if not collision_flag:\n",
    "                no_step += 1\n",
    "                path.append((next_x, next_y))\n",
    "                break\n",
    "\n",
    "        if abs(next_x - goal_x) + abs(next_y - goal_y) <= 6:\n",
    "            success_rate += 1\n",
    "            path.append((goal_x, goal_y))\n",
    "            path.append('#') #denote the path is successful\n",
    "            break\n",
    "\n",
    "        if no_step >= configs.total_length - 2:\n",
    "            video[0, :-1] = video[0, 1:]\n",
    "            video[0, -2] = augmentation(video[0, -2], next_x, next_y)\n",
    "        else:\n",
    "            video[0, no_frame + 1] = augmentation(video[0, no_frame + 1], next_x, next_y)\n",
    "        configs.input_length = no_frame + 1\n",
    "        real_input_flag = np.zeros(\n",
    "                (configs.batch_size,\n",
    "                 configs.total_length - configs.input_length - 1,\n",
    "                 configs.img_width // configs.patch_size,\n",
    "                 configs.img_width // configs.patch_size,\n",
    "                 configs.patch_size ** 2 * configs.img_channel))\n",
    "\n",
    "        if no_step > max_itr:\n",
    "            print ('failed!')\n",
    "            break\n",
    "    all_time += time.time() - s_time\n",
    "    print ('path', path)\n",
    "    "
   ]
  },
  {
   "cell_type": "code",
   "execution_count": 12,
   "id": "02414455",
   "metadata": {},
   "outputs": [
    {
     "name": "stdout",
     "output_type": "stream",
     "text": [
      "1700\n"
     ]
    }
   ],
   "source": [
    "print (len(valid_task))"
   ]
  },
  {
   "cell_type": "markdown",
   "id": "7650b73c",
   "metadata": {},
   "source": [
    "\n"
   ]
  },
  {
   "cell_type": "code",
   "execution_count": 14,
   "id": "203a58b2",
   "metadata": {},
   "outputs": [],
   "source": [
    "valid_maze = []\n",
    "valid_config = []\n",
    "for i in range(len(valid_task)):\n",
    "    map_id, task_id = valid_task[i]\n",
    "    valid_maze.append(test_maze[map_id])\n",
    "    valid_config.append(test_config[map_id, task_id])\n",
    "valid_maze = np.array(valid_maze)\n",
    "valid_config = np.array(valid_config)\n",
    "np.save(\"Data/mazes_60_test.npy\", valid_maze)\n",
    "np.save(\"Data/mazes_config_test.npy\", valid_config)\n",
    "    \n",
    "    "
   ]
  },
  {
   "cell_type": "code",
   "execution_count": 16,
   "id": "5d24a632",
   "metadata": {},
   "outputs": [
    {
     "name": "stdout",
     "output_type": "stream",
     "text": [
      "(1700, 60, 60)\n",
      "(1700, 4)\n"
     ]
    }
   ],
   "source": [
    "print (valid_maze.shape)\n",
    "print (valid_config.shape)"
   ]
  },
  {
   "cell_type": "code",
   "execution_count": null,
   "id": "0036fe44",
   "metadata": {},
   "outputs": [],
   "source": []
  }
 ],
 "metadata": {
  "kernelspec": {
   "display_name": "Python 3 (ipykernel)",
   "language": "python",
   "name": "python3"
  },
  "language_info": {
   "codemirror_mode": {
    "name": "ipython",
    "version": 3
   },
   "file_extension": ".py",
   "mimetype": "text/x-python",
   "name": "python",
   "nbconvert_exporter": "python",
   "pygments_lexer": "ipython3",
   "version": "3.9.11"
  }
 },
 "nbformat": 4,
 "nbformat_minor": 5
}
